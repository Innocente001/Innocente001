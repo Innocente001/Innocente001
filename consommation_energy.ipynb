{
  "cells": [
    {
      "cell_type": "markdown",
      "metadata": {
        "id": "view-in-github",
        "colab_type": "text"
      },
      "source": [
        "<a href=\"https://colab.research.google.com/github/Innocente001/Innocente001/blob/main/consommation_energy.ipynb\" target=\"_parent\"><img src=\"https://colab.research.google.com/assets/colab-badge.svg\" alt=\"Open In Colab\"/></a>"
      ]
    },
    {
      "cell_type": "markdown",
      "metadata": {
        "id": "p8xizEqXSuU2"
      },
      "source": [
        "### STOCKAGE DONNEES"
      ]
    },
    {
      "cell_type": "code",
      "execution_count": null,
      "metadata": {
        "id": "LxyBWtm2SuU7",
        "outputId": "cfe837a3-3efb-438a-8255-d4676c90b9de"
      },
      "outputs": [
        {
          "name": "stdout",
          "output_type": "stream",
          "text": [
            "https://opendata.reseaux-energies.fr/api/records/1.0/search/?dataset=eco2mix-metropoles-tr&q=date_heure%3E%3D%222022-05-21T15%3A50%3A00Z%22&sort=-date_heure&rows=10000&format=json&timezone=Europe%2FBerlin\n",
            "no data\n",
            "no data\n",
            "no data\n",
            "no data\n",
            "no data\n",
            "no data\n",
            "no data\n",
            "no data\n",
            "no data\n",
            "no data\n",
            "no data\n",
            "no data\n",
            "no data\n",
            "no data\n",
            "no data\n",
            "no data\n",
            "no data\n",
            "no data\n",
            "no data\n",
            "no data\n",
            "no data\n",
            "no data\n",
            "no data\n",
            "no data\n",
            "no data\n",
            "no data\n",
            "no data\n",
            "no data\n",
            "no data\n",
            "no data\n",
            "no data\n",
            "no data\n",
            "no data\n",
            "no data\n",
            "no data\n",
            "no data\n",
            "no data\n",
            "no data\n",
            "no data\n",
            "no data\n",
            "no data\n",
            "no data\n",
            "no data\n",
            "no data\n",
            "no data\n",
            "no data\n",
            "no data\n",
            "no data\n",
            "no data\n",
            "no data\n",
            "no data\n",
            "no data\n",
            "no data\n",
            "no data\n",
            "no data\n",
            "no data\n",
            "no data\n",
            "no data\n",
            "no data\n",
            "no data\n",
            "no data\n",
            "no data\n",
            "no data\n",
            "no data\n",
            "no data\n",
            "no data\n",
            "no data\n",
            "no data\n",
            "no data\n",
            "no data\n",
            "no data\n",
            "no data\n",
            "no data\n",
            "no data\n",
            "no data\n",
            "no data\n",
            "no data\n",
            "no data\n",
            "no data\n",
            "no data\n",
            "no data\n",
            "no data\n",
            "no data\n",
            "no data\n",
            "no data\n",
            "no data\n",
            "no data\n",
            "no data\n",
            "no data\n",
            "no data\n",
            "no data\n",
            "no data\n",
            "no data\n",
            "no data\n",
            "no data\n",
            "no data\n",
            "no data\n",
            "no data\n",
            "no data\n",
            "no data\n",
            "no data\n",
            "no data\n",
            "no data\n",
            "no data\n",
            "no data\n",
            "no data\n",
            "no data\n",
            "no data\n",
            "no data\n",
            "no data\n",
            "no data\n",
            "no data\n",
            "no data\n",
            "no data\n",
            "no data\n",
            "no data\n",
            "no data\n",
            "no data\n",
            "no data\n",
            "no data\n",
            "no data\n",
            "no data\n",
            "no data\n",
            "no data\n",
            "no data\n",
            "no data\n",
            "no data\n",
            "no data\n",
            "no data\n",
            "no data\n",
            "no data\n",
            "no data\n",
            "no data\n",
            "no data\n",
            "no data\n",
            "no data\n",
            "no data\n",
            "no data\n",
            "no data\n",
            "no data\n",
            "no data\n",
            "no data\n",
            "no data\n",
            "no data\n",
            "no data\n",
            "no data\n",
            "no data\n",
            "no data\n",
            "no data\n",
            "no data\n",
            "no data\n",
            "no data\n",
            "no data\n",
            "no data\n",
            "no data\n",
            "no data\n",
            "no data\n",
            "no data\n",
            "no data\n",
            "no data\n",
            "no data\n",
            "no data\n",
            "no data\n",
            "no data\n",
            "no data\n",
            "no data\n",
            "no data\n",
            "no data\n",
            "no data\n",
            "no data\n",
            "no data\n",
            "no data\n",
            "no data\n",
            "no data\n",
            "no data\n",
            "no data\n",
            "no data\n",
            "no data\n",
            "no data\n",
            "no data\n",
            "no data\n",
            "no data\n",
            "no data\n",
            "no data\n",
            "no data\n",
            "no data\n",
            "no data\n",
            "no data\n",
            "no data\n",
            "no data\n",
            "no data\n",
            "no data\n",
            "no data\n",
            "no data\n",
            "no data\n",
            "no data\n",
            "no data\n",
            "no data\n",
            "no data\n",
            "no data\n",
            "no data\n",
            "no data\n",
            "no data\n",
            "no data\n",
            "no data\n",
            "no data\n",
            "no data\n",
            "no data\n",
            "no data\n",
            "no data\n",
            "no data\n",
            "no data\n",
            "no data\n",
            "no data\n",
            "no data\n",
            "no data\n",
            "no data\n",
            "no data\n",
            "no data\n",
            "no data\n",
            "no data\n",
            "no data\n",
            "no data\n",
            "no data\n",
            "no data\n",
            "no data\n",
            "no data\n",
            "no data\n",
            "no data\n",
            "no data\n",
            "no data\n",
            "no data\n",
            "no data\n",
            "no data\n",
            "no data\n",
            "no data\n",
            "no data\n",
            "no data\n",
            "no data\n",
            "no data\n",
            "no data\n",
            "no data\n",
            "no data\n",
            "no data\n",
            "no data\n",
            "no data\n",
            "no data\n",
            "no data\n",
            "no data\n",
            "no data\n",
            "no data\n",
            "no data\n",
            "no data\n",
            "no data\n",
            "no data\n",
            "no data\n",
            "no data\n",
            "no data\n",
            "no data\n",
            "no data\n",
            "no data\n",
            "no data\n",
            "no data\n",
            "no data\n",
            "no data\n",
            "no data\n",
            "no data\n",
            "no data\n",
            "no data\n",
            "no data\n",
            "no data\n",
            "no data\n",
            "no data\n",
            "no data\n",
            "no data\n",
            "no data\n",
            "no data\n",
            "no data\n",
            "no data\n",
            "no data\n",
            "no data\n",
            "no data\n",
            "no data\n",
            "no data\n",
            "no data\n",
            "no data\n",
            "no data\n",
            "no data\n",
            "no data\n",
            "no data\n",
            "no data\n",
            "no data\n",
            "no data\n",
            "no data\n",
            "no data\n",
            "no data\n",
            "no data\n",
            "no data\n",
            "no data\n",
            "no data\n",
            "no data\n",
            "no data\n",
            "no data\n",
            "no data\n",
            "no data\n",
            "no data\n",
            "no data\n",
            "no data\n",
            "no data\n",
            "no data\n",
            "no data\n",
            "no data\n",
            "no data\n",
            "no data\n",
            "no data\n",
            "no data\n",
            "no data\n",
            "no data\n",
            "no data\n",
            "no data\n",
            "no data\n",
            "no data\n",
            "no data\n",
            "no data\n",
            "no data\n",
            "no data\n",
            "no data\n",
            "no data\n",
            "no data\n",
            "no data\n",
            "no data\n",
            "no data\n",
            "no data\n",
            "no data\n",
            "no data\n",
            "no data\n",
            "no data\n",
            "no data\n",
            "no data\n",
            "no data\n",
            "no data\n",
            "no data\n",
            "no data\n",
            "no data\n",
            "no data\n",
            "no data\n",
            "no data\n",
            "no data\n",
            "no data\n",
            "no data\n",
            "no data\n",
            "no data\n",
            "no data\n",
            "no data\n",
            "no data\n",
            "no data\n",
            "no data\n",
            "no data\n",
            "no data\n",
            "no data\n",
            "no data\n",
            "no data\n",
            "no data\n",
            "no data\n",
            "no data\n",
            "no data\n",
            "no data\n",
            "no data\n",
            "no data\n",
            "no data\n",
            "no data\n",
            "no data\n",
            "no data\n",
            "no data\n",
            "no data\n",
            "no data\n",
            "no data\n",
            "no data\n",
            "no data\n",
            "no data\n",
            "no data\n",
            "no data\n",
            "no data\n",
            "no data\n",
            "no data\n",
            "no data\n",
            "no data\n",
            "no data\n",
            "no data\n",
            "no data\n",
            "no data\n",
            "no data\n",
            "no data\n",
            "no data\n",
            "no data\n",
            "no data\n",
            "no data\n",
            "no data\n",
            "no data\n",
            "no data\n",
            "no data\n",
            "no data\n",
            "no data\n",
            "no data\n",
            "no data\n",
            "no data\n",
            "no data\n",
            "no data\n",
            "no data\n",
            "no data\n",
            "no data\n",
            "no data\n",
            "no data\n",
            "no data\n",
            "no data\n",
            "no data\n",
            "no data\n",
            "no data\n",
            "no data\n",
            "no data\n",
            "no data\n",
            "no data\n",
            "no data\n",
            "no data\n",
            "no data\n",
            "no data\n",
            "no data\n",
            "no data\n",
            "no data\n",
            "no data\n",
            "no data\n",
            "no data\n",
            "no data\n",
            "no data\n",
            "no data\n",
            "no data\n",
            "no data\n",
            "no data\n",
            "no data\n",
            "no data\n",
            "no data\n",
            "no data\n",
            "no data\n",
            "no data\n",
            "no data\n",
            "no data\n",
            "no data\n",
            "no data\n",
            "no data\n",
            "no data\n",
            "no data\n",
            "no data\n",
            "no data\n",
            "no data\n",
            "no data\n",
            "no data\n",
            "no data\n",
            "no data\n",
            "no data\n",
            "no data\n",
            "no data\n",
            "no data\n",
            "no data\n",
            "no data\n",
            "no data\n",
            "no data\n",
            "no data\n",
            "no data\n",
            "no data\n",
            "no data\n",
            "no data\n",
            "no data\n",
            "no data\n",
            "no data\n",
            "no data\n",
            "no data\n",
            "no data\n",
            "no data\n",
            "no data\n",
            "no data\n",
            "no data\n",
            "no data\n",
            "no data\n",
            "no data\n",
            "no data\n",
            "no data\n",
            "no data\n",
            "no data\n",
            "no data\n",
            "no data\n",
            "no data\n",
            "no data\n",
            "no data\n",
            "no data\n",
            "no data\n",
            "no data\n",
            "no data\n",
            "no data\n",
            "no data\n",
            "no data\n",
            "no data\n",
            "no data\n",
            "no data\n",
            "no data\n",
            "no data\n",
            "no data\n",
            "no data\n",
            "no data\n",
            "no data\n",
            "no data\n",
            "no data\n",
            "no data\n",
            "no data\n",
            "no data\n",
            "no data\n",
            "no data\n",
            "no data\n",
            "no data\n",
            "no data\n",
            "no data\n",
            "no data\n",
            "no data\n",
            "no data\n",
            "no data\n",
            "no data\n",
            "no data\n",
            "no data\n",
            "no data\n",
            "no data\n",
            "no data\n",
            "no data\n",
            "no data\n",
            "no data\n",
            "no data\n",
            "no data\n",
            "no data\n",
            "no data\n",
            "no data\n",
            "no data\n",
            "no data\n",
            "no data\n",
            "no data\n",
            "no data\n",
            "no data\n",
            "no data\n",
            "no data\n",
            "no data\n",
            "no data\n",
            "no data\n",
            "no data\n",
            "no data\n",
            "no data\n",
            "no data\n",
            "no data\n",
            "no data\n",
            "no data\n",
            "no data\n",
            "no data\n",
            "no data\n",
            "no data\n",
            "no data\n",
            "no data\n",
            "no data\n",
            "no data\n",
            "no data\n",
            "no data\n",
            "no data\n",
            "no data\n",
            "no data\n",
            "no data\n",
            "no data\n",
            "no data\n",
            "no data\n",
            "no data\n",
            "no data\n",
            "no data\n",
            "no data\n",
            "no data\n",
            "no data\n",
            "no data\n",
            "no data\n",
            "no data\n",
            "no data\n",
            "no data\n",
            "no data\n",
            "no data\n",
            "no data\n",
            "no data\n",
            "no data\n",
            "no data\n",
            "no data\n",
            "no data\n",
            "no data\n",
            "no data\n",
            "no data\n",
            "no data\n",
            "no data\n",
            "no data\n",
            "no data\n",
            "no data\n",
            "no data\n",
            "no data\n",
            "no data\n",
            "no data\n",
            "no data\n",
            "no data\n",
            "no data\n",
            "no data\n",
            "no data\n",
            "no data\n",
            "no data\n",
            "no data\n",
            "no data\n",
            "no data\n",
            "no data\n",
            "no data\n",
            "no data\n",
            "no data\n",
            "no data\n",
            "no data\n",
            "no data\n",
            "no data\n",
            "no data\n",
            "no data\n",
            "no data\n",
            "no data\n",
            "no data\n",
            "no data\n",
            "no data\n",
            "no data\n",
            "no data\n",
            "no data\n",
            "no data\n",
            "no data\n",
            "no data\n",
            "no data\n",
            "no data\n",
            "no data\n",
            "no data\n",
            "no data\n",
            "no data\n",
            "no data\n",
            "no data\n",
            "no data\n",
            "no data\n",
            "no data\n",
            "no data\n",
            "no data\n",
            "no data\n",
            "no data\n",
            "no data\n",
            "no data\n",
            "no data\n",
            "no data\n",
            "no data\n",
            "no data\n",
            "no data\n",
            "no data\n",
            "no data\n",
            "no data\n",
            "no data\n",
            "no data\n",
            "no data\n",
            "no data\n",
            "no data\n",
            "no data\n",
            "no data\n",
            "no data\n",
            "no data\n",
            "no data\n",
            "no data\n",
            "no data\n",
            "no data\n",
            "no data\n",
            "no data\n",
            "no data\n",
            "no data\n",
            "no data\n",
            "no data\n",
            "no data\n",
            "no data\n",
            "no data\n",
            "no data\n",
            "no data\n",
            "no data\n",
            "no data\n",
            "no data\n",
            "no data\n",
            "no data\n",
            "no data\n",
            "no data\n",
            "no data\n",
            "no data\n",
            "no data\n",
            "no data\n",
            "no data\n",
            "no data\n",
            "no data\n",
            "no data\n",
            "no data\n",
            "no data\n",
            "no data\n",
            "no data\n",
            "no data\n",
            "no data\n",
            "no data\n",
            "no data\n",
            "no data\n",
            "no data\n",
            "no data\n",
            "no data\n",
            "no data\n",
            "no data\n",
            "no data\n",
            "no data\n",
            "no data\n",
            "no data\n",
            "no data\n",
            "no data\n",
            "no data\n",
            "no data\n",
            "no data\n",
            "no data\n",
            "no data\n",
            "no data\n",
            "no data\n",
            "no data\n",
            "no data\n",
            "no data\n",
            "no data\n",
            "no data\n",
            "no data\n",
            "no data\n",
            "no data\n",
            "no data\n",
            "no data\n",
            "no data\n",
            "no data\n",
            "no data\n",
            "no data\n",
            "no data\n",
            "no data\n",
            "no data\n",
            "no data\n",
            "no data\n",
            "no data\n",
            "no data\n",
            "no data\n",
            "no data\n",
            "no data\n",
            "no data\n",
            "no data\n",
            "no data\n",
            "no data\n",
            "no data\n",
            "no data\n",
            "no data\n",
            "no data\n",
            "no data\n",
            "no data\n",
            "no data\n",
            "no data\n",
            "no data\n",
            "no data\n",
            "no data\n",
            "no data\n",
            "no data\n",
            "no data\n",
            "no data\n",
            "no data\n",
            "no data\n",
            "no data\n",
            "no data\n",
            "no data\n",
            "no data\n",
            "no data\n",
            "no data\n",
            "no data\n",
            "no data\n",
            "no data\n",
            "no data\n",
            "no data\n",
            "no data\n",
            "no data\n",
            "no data\n",
            "no data\n",
            "no data\n",
            "no data\n",
            "no data\n",
            "no data\n",
            "no data\n",
            "no data\n",
            "no data\n",
            "no data\n",
            "no data\n",
            "no data\n",
            "no data\n",
            "no data\n",
            "no data\n",
            "no data\n",
            "no data\n",
            "no data\n",
            "no data\n",
            "no data\n",
            "no data\n",
            "no data\n",
            "no data\n",
            "no data\n",
            "no data\n",
            "no data\n",
            "no data\n",
            "no data\n",
            "no data\n",
            "no data\n",
            "no data\n",
            "no data\n",
            "no data\n",
            "no data\n",
            "no data\n",
            "no data\n",
            "no data\n",
            "no data\n",
            "no data\n",
            "no data\n",
            "no data\n",
            "no data\n",
            "no data\n",
            "no data\n",
            "no data\n",
            "no data\n",
            "no data\n",
            "no data\n",
            "no data\n",
            "no data\n",
            "no data\n",
            "no data\n",
            "no data\n",
            "no data\n",
            "no data\n",
            "no data\n",
            "no data\n",
            "no data\n",
            "no data\n",
            "no data\n",
            "no data\n",
            "no data\n",
            "no data\n",
            "no data\n",
            "no data\n",
            "no data\n",
            "no data\n",
            "no data\n",
            "no data\n",
            "no data\n",
            "no data\n",
            "no data\n",
            "no data\n",
            "no data\n",
            "no data\n",
            "no data\n",
            "no data\n",
            "no data\n",
            "no data\n",
            "no data\n",
            "no data\n",
            "no data\n",
            "no data\n",
            "no data\n",
            "no data\n",
            "no data\n",
            "no data\n",
            "no data\n",
            "no data\n",
            "no data\n",
            "no data\n",
            "no data\n",
            "no data\n",
            "no data\n",
            "no data\n",
            "no data\n",
            "no data\n",
            "no data\n",
            "no data\n",
            "no data\n",
            "no data\n",
            "no data\n",
            "no data\n",
            "no data\n",
            "no data\n",
            "no data\n",
            "no data\n",
            "no data\n",
            "no data\n",
            "no data\n",
            "no data\n",
            "no data\n",
            "no data\n",
            "no data\n",
            "no data\n",
            "no data\n",
            "no data\n",
            "no data\n",
            "no data\n",
            "no data\n",
            "no data\n",
            "no data\n",
            "no data\n",
            "no data\n",
            "no data\n",
            "no data\n",
            "no data\n",
            "no data\n",
            "no data\n",
            "no data\n",
            "no data\n",
            "no data\n",
            "no data\n",
            "no data\n",
            "no data\n",
            "no data\n",
            "no data\n",
            "no data\n",
            "no data\n",
            "no data\n",
            "no data\n",
            "no data\n",
            "no data\n",
            "no data\n",
            "no data\n",
            "no data\n",
            "no data\n",
            "no data\n",
            "no data\n",
            "no data\n",
            "no data\n",
            "no data\n",
            "no data\n",
            "no data\n",
            "no data\n",
            "no data\n",
            "no data\n",
            "no data\n",
            "no data\n",
            "no data\n",
            "no data\n",
            "no data\n",
            "no data\n",
            "no data\n",
            "no data\n",
            "no data\n",
            "no data\n",
            "no data\n",
            "no data\n",
            "no data\n",
            "no data\n",
            "no data\n",
            "no data\n",
            "no data\n",
            "no data\n",
            "no data\n",
            "no data\n",
            "no data\n",
            "no data\n",
            "no data\n",
            "no data\n",
            "no data\n",
            "no data\n",
            "no data\n",
            "no data\n",
            "no data\n",
            "no data\n",
            "no data\n",
            "no data\n",
            "no data\n",
            "no data\n",
            "no data\n",
            "no data\n",
            "no data\n",
            "no data\n",
            "no data\n",
            "no data\n",
            "no data\n",
            "no data\n",
            "no data\n",
            "no data\n",
            "no data\n",
            "no data\n",
            "no data\n",
            "no data\n",
            "no data\n",
            "no data\n",
            "no data\n",
            "no data\n",
            "no data\n",
            "no data\n",
            "no data\n",
            "no data\n",
            "no data\n",
            "no data\n",
            "no data\n",
            "no data\n",
            "no data\n",
            "no data\n",
            "no data\n",
            "no data\n",
            "no data\n",
            "no data\n",
            "no data\n",
            "no data\n",
            "no data\n",
            "no data\n",
            "no data\n"
          ]
        }
      ],
      "source": [
        "# env Python\n",
        "# import urllib library\n",
        "from urllib.request import urlopen\n",
        "import urllib.request as request \n",
        "import urllib.parse \n",
        "from datetime import datetime, timezone,timedelta\n",
        "# from  datetime import timedelta \n",
        "# import pandas as pd\n",
        "# from pandas import json_normalize\n",
        "\n",
        "# import mysql.connector\n",
        "# import json\n",
        "import json\n",
        "\n",
        "\n",
        "#variable requete\n",
        "rows=10000\n",
        "start='0'\n",
        "dataset='eco2mix-metropoles-tr'\n",
        "timezone='Europe/Berlin'\n",
        "format='json'\n",
        "sort='-date_heure'\n",
        "frequence = 24\n",
        "\n",
        "\n",
        "\n",
        "#mysql variable\n",
        "# user='root'\n",
        "# password='root'\n",
        "# host='127.0.0.1'\n",
        "# database='consommation'\n",
        "# table='energy'\n",
        "\n",
        "\n",
        "#mssql variables\n",
        "import pyodbc \n",
        "server = 'LAPTOP-DA94BCE0\\SQLEXPRESS' \n",
        "database = 'consommation' \n",
        "username = 'sa' \n",
        "password = 'a' \n",
        "cnxn = pyodbc.connect('DRIVER={ODBC Driver 17 for SQL Server};SERVER='+server+';DATABASE='+database+';Trusted_Connection=yes;')\n",
        "\n",
        "now  = datetime.now()\n",
        "previous_hour = now - timedelta(hours=frequence)\n",
        "base_url ='https://opendata.reseaux-energies.fr/api/records/1.0/search/?'\n",
        "\n",
        "params  = {\n",
        "            'dataset':dataset,\n",
        "            'q':('date_heure>='+'\\\"'+(previous_hour.strftime(\"%Y-%m-%dT%H:%M:00Z\"))+'\\\"'),\n",
        "            'sort':'-date_heure',\n",
        "            'rows':rows,\n",
        "            # 'start':start,\n",
        "            'format':'json',\n",
        "            'timezone':'Europe/Berlin'\n",
        "            }\n",
        "\n",
        "query_url = base_url+urllib.parse.urlencode(params)\n",
        "print(query_url)\n",
        "\n",
        "# store the response of URL\n",
        "# with request.urlopen('https://opendata.reseaux-energies.fr/api/records/1.0/search/?dataset=eco2mix-metropoles-tr&q=date_heure%3E%3D%222022-05-14T23%3A00%3A00Z%22&rows=50&sort=-date_heure&timezone=Europe%2FBerlin') as response:\n",
        "with request.urlopen(query_url) as response:\n",
        "    if response.getcode()==200:\n",
        "        #Creating a cursor object using the cursor() method\n",
        "       \n",
        "        source = response.read()\n",
        "        data = json.loads(source)\n",
        "        cursor = cnxn.cursor()\n",
        "        for d in data['records']:\n",
        "            if 'consommation' in d['fields']:\n",
        "                # print(d['fields']['heures'])\n",
        "                date =d['fields']['date']\n",
        "                consommation=d['fields']['consommation']\n",
        "                heures=d['fields']['heures']\n",
        "                libelle_metropole=d['fields']['libelle_metropole']\n",
        "                echanges_physiques=d['fields']['echanges_physiques']\n",
        "                # cursor = conn.cursor()\n",
        "                try:\n",
        "                    # count = cursor.execute(\"\"\"INSERT INTO energy(echanges_physiques, date_valeur, consommation, heures, libelle_metropole) VALUES(?,?,?,?,?)\"\"\",\n",
        "                    count = cursor.execute(\"\"\"INSERT INTO energy(libelle_metropole,date_valeur,consommation,echanges_physiques,heures) VALUES(?,?,?,?,?)\"\"\",\n",
        "                     libelle_metropole,date,consommation,echanges_physiques,heures).rowcount\n",
        "                    \n",
        "                    cnxn.commit()\n",
        "               \n",
        "\n",
        "                except:\n",
        "                    # Rolling back in case of error\n",
        "                    cnxn.rollback()\n",
        "\n",
        "                    print(\"Data not inserted\")\n",
        "\n",
        "                    # Closing the connection\n",
        "                    cnxn.close()\n",
        "                    break\n",
        "            else:\n",
        "                print('no data')\n",
        "        # cnxn.close()\n",
        "    else:\n",
        "        print(\"erreur dans le chargement\")\n",
        "# dataset=eco2mix-metropoles-tr&q=date_heure%3E%3D%222022-05-14T23%3A00%3A00Z%22&rows=8&sort=-date_heure&timezone=Europe%2FBerlin "
      ]
    },
    {
      "cell_type": "markdown",
      "metadata": {
        "id": "mMi564GFSuU-"
      },
      "source": [
        "### LECTURE DES DONNEES"
      ]
    },
    {
      "cell_type": "code",
      "execution_count": null,
      "metadata": {
        "id": "LYcbHXYhSuU-"
      },
      "outputs": [],
      "source": [
        "import pyodbc\n",
        "import pandas as pd\n",
        "\n",
        "server = 'LAPTOP-DA94BCE0\\SQLEXPRESS' \n",
        "database = 'consommation' \n",
        "username = 'sa' \n",
        "password = 'a' \n",
        "cnxn = pyodbc.connect('DRIVER={ODBC Driver 17 for SQL Server};SERVER='+server+';DATABASE='+database+';Trusted_Connection=yes;')\n",
        "\n",
        "sql = \"Select * from energy\"\n",
        "data = pd.read_sql(sql,cnxn)"
      ]
    },
    {
      "cell_type": "code",
      "execution_count": null,
      "metadata": {
        "id": "Fpxfao30SuU_",
        "outputId": "9be0dcd6-dfe4-49f7-a0aa-b3dce7b7eb71"
      },
      "outputs": [
        {
          "data": {
            "text/html": [
              "<div>\n",
              "<style scoped>\n",
              "    .dataframe tbody tr th:only-of-type {\n",
              "        vertical-align: middle;\n",
              "    }\n",
              "\n",
              "    .dataframe tbody tr th {\n",
              "        vertical-align: top;\n",
              "    }\n",
              "\n",
              "    .dataframe thead th {\n",
              "        text-align: right;\n",
              "    }\n",
              "</style>\n",
              "<table border=\"1\" class=\"dataframe\">\n",
              "  <thead>\n",
              "    <tr style=\"text-align: right;\">\n",
              "      <th></th>\n",
              "      <th>libelle_metropole</th>\n",
              "      <th>id</th>\n",
              "      <th>date_valeur</th>\n",
              "      <th>consommation</th>\n",
              "      <th>echanges_physiques</th>\n",
              "      <th>heures</th>\n",
              "    </tr>\n",
              "  </thead>\n",
              "  <tbody>\n",
              "    <tr>\n",
              "      <th>0</th>\n",
              "      <td>Métropole du Grand Paris</td>\n",
              "      <td>1</td>\n",
              "      <td>2022-05-18</td>\n",
              "      <td>4122.0</td>\n",
              "      <td>4078.0</td>\n",
              "      <td>15:30</td>\n",
              "    </tr>\n",
              "    <tr>\n",
              "      <th>1</th>\n",
              "      <td>Métropole Européenne de Lille</td>\n",
              "      <td>2</td>\n",
              "      <td>2022-05-18</td>\n",
              "      <td>896.0</td>\n",
              "      <td>692.0</td>\n",
              "      <td>15:30</td>\n",
              "    </tr>\n",
              "    <tr>\n",
              "      <th>2</th>\n",
              "      <td>Eurométropole de Strasbourg</td>\n",
              "      <td>3</td>\n",
              "      <td>2022-05-18</td>\n",
              "      <td>723.0</td>\n",
              "      <td>320.0</td>\n",
              "      <td>15:30</td>\n",
              "    </tr>\n",
              "    <tr>\n",
              "      <th>3</th>\n",
              "      <td>Métropole du Grand Nancy</td>\n",
              "      <td>4</td>\n",
              "      <td>2022-05-18</td>\n",
              "      <td>183.0</td>\n",
              "      <td>181.0</td>\n",
              "      <td>15:30</td>\n",
              "    </tr>\n",
              "    <tr>\n",
              "      <th>4</th>\n",
              "      <td>Métropole Nice Côte d'Azur</td>\n",
              "      <td>5</td>\n",
              "      <td>2022-05-18</td>\n",
              "      <td>183.0</td>\n",
              "      <td>83.0</td>\n",
              "      <td>15:30</td>\n",
              "    </tr>\n",
              "  </tbody>\n",
              "</table>\n",
              "</div>"
            ],
            "text/plain": [
              "               libelle_metropole  id date_valeur  consommation  \\\n",
              "0       Métropole du Grand Paris   1  2022-05-18        4122.0   \n",
              "1  Métropole Européenne de Lille   2  2022-05-18         896.0   \n",
              "2    Eurométropole de Strasbourg   3  2022-05-18         723.0   \n",
              "3       Métropole du Grand Nancy   4  2022-05-18         183.0   \n",
              "4     Métropole Nice Côte d'Azur   5  2022-05-18         183.0   \n",
              "\n",
              "   echanges_physiques heures  \n",
              "0              4078.0  15:30  \n",
              "1               692.0  15:30  \n",
              "2               320.0  15:30  \n",
              "3               181.0  15:30  \n",
              "4                83.0  15:30  "
            ]
          },
          "execution_count": 3,
          "metadata": {},
          "output_type": "execute_result"
        }
      ],
      "source": [
        "data.head() # affichage du contenu de la table"
      ]
    },
    {
      "cell_type": "code",
      "execution_count": null,
      "metadata": {
        "id": "3XERdbHISuU_",
        "outputId": "c647529f-0d0f-4b6a-ff37-bf830f23873f"
      },
      "outputs": [
        {
          "data": {
            "text/plain": [
              "(1402, 6)"
            ]
          },
          "execution_count": 10,
          "metadata": {},
          "output_type": "execute_result"
        }
      ],
      "source": [
        "data.shape # 1402 lignes et 6 colonnes dans notre jeu de données"
      ]
    },
    {
      "cell_type": "code",
      "execution_count": null,
      "metadata": {
        "id": "hoX2_TaASuVA",
        "outputId": "f54486c3-b5bd-41aa-e25a-32bed402f8c4"
      },
      "outputs": [
        {
          "name": "stdout",
          "output_type": "stream",
          "text": [
            "<class 'pandas.core.frame.DataFrame'>\n",
            "RangeIndex: 1402 entries, 0 to 1401\n",
            "Data columns (total 6 columns):\n",
            " #   Column              Non-Null Count  Dtype  \n",
            "---  ------              --------------  -----  \n",
            " 0   libelle_metropole   1402 non-null   object \n",
            " 1   id                  1402 non-null   int64  \n",
            " 2   date_valeur         1402 non-null   object \n",
            " 3   consommation        1402 non-null   float64\n",
            " 4   echanges_physiques  1402 non-null   float64\n",
            " 5   heures              1402 non-null   object \n",
            "dtypes: float64(2), int64(1), object(3)\n",
            "memory usage: 65.8+ KB\n"
          ]
        }
      ],
      "source": [
        "data.info()"
      ]
    },
    {
      "cell_type": "code",
      "execution_count": null,
      "metadata": {
        "id": "FlKU6UXmSuVB",
        "outputId": "ae8d8b34-4f90-4ece-8a86-dc5f098ec4d6"
      },
      "outputs": [
        {
          "data": {
            "text/html": [
              "<div>\n",
              "<style scoped>\n",
              "    .dataframe tbody tr th:only-of-type {\n",
              "        vertical-align: middle;\n",
              "    }\n",
              "\n",
              "    .dataframe tbody tr th {\n",
              "        vertical-align: top;\n",
              "    }\n",
              "\n",
              "    .dataframe thead th {\n",
              "        text-align: right;\n",
              "    }\n",
              "</style>\n",
              "<table border=\"1\" class=\"dataframe\">\n",
              "  <thead>\n",
              "    <tr style=\"text-align: right;\">\n",
              "      <th></th>\n",
              "      <th>id</th>\n",
              "      <th>consommation</th>\n",
              "      <th>echanges_physiques</th>\n",
              "    </tr>\n",
              "  </thead>\n",
              "  <tbody>\n",
              "    <tr>\n",
              "      <th>count</th>\n",
              "      <td>4535.000000</td>\n",
              "      <td>4535.000000</td>\n",
              "      <td>4535.000000</td>\n",
              "    </tr>\n",
              "    <tr>\n",
              "      <th>mean</th>\n",
              "      <td>2268.000000</td>\n",
              "      <td>488.020507</td>\n",
              "      <td>395.089085</td>\n",
              "    </tr>\n",
              "    <tr>\n",
              "      <th>std</th>\n",
              "      <td>1309.286065</td>\n",
              "      <td>707.472653</td>\n",
              "      <td>669.914688</td>\n",
              "    </tr>\n",
              "    <tr>\n",
              "      <th>min</th>\n",
              "      <td>1.000000</td>\n",
              "      <td>58.000000</td>\n",
              "      <td>-25.000000</td>\n",
              "    </tr>\n",
              "    <tr>\n",
              "      <th>25%</th>\n",
              "      <td>1134.500000</td>\n",
              "      <td>162.000000</td>\n",
              "      <td>147.000000</td>\n",
              "    </tr>\n",
              "    <tr>\n",
              "      <th>50%</th>\n",
              "      <td>2268.000000</td>\n",
              "      <td>245.000000</td>\n",
              "      <td>204.000000</td>\n",
              "    </tr>\n",
              "    <tr>\n",
              "      <th>75%</th>\n",
              "      <td>3401.500000</td>\n",
              "      <td>408.500000</td>\n",
              "      <td>330.000000</td>\n",
              "    </tr>\n",
              "    <tr>\n",
              "      <th>max</th>\n",
              "      <td>4535.000000</td>\n",
              "      <td>4237.000000</td>\n",
              "      <td>4200.000000</td>\n",
              "    </tr>\n",
              "  </tbody>\n",
              "</table>\n",
              "</div>"
            ],
            "text/plain": [
              "                id  consommation  echanges_physiques\n",
              "count  4535.000000   4535.000000         4535.000000\n",
              "mean   2268.000000    488.020507          395.089085\n",
              "std    1309.286065    707.472653          669.914688\n",
              "min       1.000000     58.000000          -25.000000\n",
              "25%    1134.500000    162.000000          147.000000\n",
              "50%    2268.000000    245.000000          204.000000\n",
              "75%    3401.500000    408.500000          330.000000\n",
              "max    4535.000000   4237.000000         4200.000000"
            ]
          },
          "execution_count": 4,
          "metadata": {},
          "output_type": "execute_result"
        }
      ],
      "source": [
        "data.describe() # stats desc sur les variables"
      ]
    },
    {
      "cell_type": "code",
      "execution_count": null,
      "metadata": {
        "id": "BV5mKElLSuVB",
        "outputId": "9bb07262-0345-44d6-af48-f891dfb9d4cb"
      },
      "outputs": [
        {
          "data": {
            "text/plain": [
              "libelle_metropole     0\n",
              "id                    0\n",
              "date_valeur           0\n",
              "consommation          0\n",
              "echanges_physiques    0\n",
              "heures                0\n",
              "dtype: int64"
            ]
          },
          "execution_count": 5,
          "metadata": {},
          "output_type": "execute_result"
        }
      ],
      "source": [
        "data.isna().sum() # pas de valeurs manquantes au niveau du jeu de données"
      ]
    },
    {
      "cell_type": "code",
      "execution_count": null,
      "metadata": {
        "id": "JJ5HSGsdSuVC",
        "outputId": "a4f86af9-b711-42d2-f2e4-d008ccdcca8b"
      },
      "outputs": [
        {
          "data": {
            "text/html": [
              "<div>\n",
              "<style scoped>\n",
              "    .dataframe tbody tr th:only-of-type {\n",
              "        vertical-align: middle;\n",
              "    }\n",
              "\n",
              "    .dataframe tbody tr th {\n",
              "        vertical-align: top;\n",
              "    }\n",
              "\n",
              "    .dataframe thead th {\n",
              "        text-align: right;\n",
              "    }\n",
              "</style>\n",
              "<table border=\"1\" class=\"dataframe\">\n",
              "  <thead>\n",
              "    <tr style=\"text-align: right;\">\n",
              "      <th></th>\n",
              "      <th>libelle_metropole</th>\n",
              "      <th>id</th>\n",
              "      <th>date_valeur</th>\n",
              "      <th>consommation</th>\n",
              "      <th>echanges_physiques</th>\n",
              "      <th>heures</th>\n",
              "    </tr>\n",
              "  </thead>\n",
              "  <tbody>\n",
              "    <tr>\n",
              "      <th>0</th>\n",
              "      <td>Métropole du Grand Paris</td>\n",
              "      <td>1</td>\n",
              "      <td>2022-05-18</td>\n",
              "      <td>4122.0</td>\n",
              "      <td>4078.0</td>\n",
              "      <td>15:30</td>\n",
              "    </tr>\n",
              "    <tr>\n",
              "      <th>1</th>\n",
              "      <td>Métropole Européenne de Lille</td>\n",
              "      <td>2</td>\n",
              "      <td>2022-05-18</td>\n",
              "      <td>896.0</td>\n",
              "      <td>692.0</td>\n",
              "      <td>15:30</td>\n",
              "    </tr>\n",
              "    <tr>\n",
              "      <th>2</th>\n",
              "      <td>Eurométropole de Strasbourg</td>\n",
              "      <td>3</td>\n",
              "      <td>2022-05-18</td>\n",
              "      <td>723.0</td>\n",
              "      <td>320.0</td>\n",
              "      <td>15:30</td>\n",
              "    </tr>\n",
              "    <tr>\n",
              "      <th>3</th>\n",
              "      <td>Métropole du Grand Nancy</td>\n",
              "      <td>4</td>\n",
              "      <td>2022-05-18</td>\n",
              "      <td>183.0</td>\n",
              "      <td>181.0</td>\n",
              "      <td>15:30</td>\n",
              "    </tr>\n",
              "    <tr>\n",
              "      <th>4</th>\n",
              "      <td>Métropole Nice Côte d'Azur</td>\n",
              "      <td>5</td>\n",
              "      <td>2022-05-18</td>\n",
              "      <td>183.0</td>\n",
              "      <td>83.0</td>\n",
              "      <td>15:30</td>\n",
              "    </tr>\n",
              "    <tr>\n",
              "      <th>...</th>\n",
              "      <td>...</td>\n",
              "      <td>...</td>\n",
              "      <td>...</td>\n",
              "      <td>...</td>\n",
              "      <td>...</td>\n",
              "      <td>...</td>\n",
              "    </tr>\n",
              "    <tr>\n",
              "      <th>4530</th>\n",
              "      <td>Métropole Grenoble-Alpes-Métropole</td>\n",
              "      <td>4531</td>\n",
              "      <td>2022-05-22</td>\n",
              "      <td>343.0</td>\n",
              "      <td>219.0</td>\n",
              "      <td>12:00</td>\n",
              "    </tr>\n",
              "    <tr>\n",
              "      <th>4531</th>\n",
              "      <td>Métropole Toulon-Provence-Méditerranée</td>\n",
              "      <td>4532</td>\n",
              "      <td>2022-05-22</td>\n",
              "      <td>201.0</td>\n",
              "      <td>172.0</td>\n",
              "      <td>12:00</td>\n",
              "    </tr>\n",
              "    <tr>\n",
              "      <th>4532</th>\n",
              "      <td>Métropole du Grand Paris</td>\n",
              "      <td>4533</td>\n",
              "      <td>2022-05-22</td>\n",
              "      <td>3398.0</td>\n",
              "      <td>3344.0</td>\n",
              "      <td>12:00</td>\n",
              "    </tr>\n",
              "    <tr>\n",
              "      <th>4533</th>\n",
              "      <td>Métropole Rouen Normandie</td>\n",
              "      <td>4534</td>\n",
              "      <td>2022-05-22</td>\n",
              "      <td>311.0</td>\n",
              "      <td>262.0</td>\n",
              "      <td>12:00</td>\n",
              "    </tr>\n",
              "    <tr>\n",
              "      <th>4534</th>\n",
              "      <td>Toulouse Métropole</td>\n",
              "      <td>4535</td>\n",
              "      <td>2022-05-22</td>\n",
              "      <td>351.0</td>\n",
              "      <td>341.0</td>\n",
              "      <td>12:00</td>\n",
              "    </tr>\n",
              "  </tbody>\n",
              "</table>\n",
              "<p>4535 rows × 6 columns</p>\n",
              "</div>"
            ],
            "text/plain": [
              "                           libelle_metropole    id date_valeur  consommation  \\\n",
              "0                   Métropole du Grand Paris     1  2022-05-18        4122.0   \n",
              "1              Métropole Européenne de Lille     2  2022-05-18         896.0   \n",
              "2                Eurométropole de Strasbourg     3  2022-05-18         723.0   \n",
              "3                   Métropole du Grand Nancy     4  2022-05-18         183.0   \n",
              "4                 Métropole Nice Côte d'Azur     5  2022-05-18         183.0   \n",
              "...                                      ...   ...         ...           ...   \n",
              "4530      Métropole Grenoble-Alpes-Métropole  4531  2022-05-22         343.0   \n",
              "4531  Métropole Toulon-Provence-Méditerranée  4532  2022-05-22         201.0   \n",
              "4532                Métropole du Grand Paris  4533  2022-05-22        3398.0   \n",
              "4533               Métropole Rouen Normandie  4534  2022-05-22         311.0   \n",
              "4534                      Toulouse Métropole  4535  2022-05-22         351.0   \n",
              "\n",
              "      echanges_physiques heures  \n",
              "0                 4078.0  15:30  \n",
              "1                  692.0  15:30  \n",
              "2                  320.0  15:30  \n",
              "3                  181.0  15:30  \n",
              "4                   83.0  15:30  \n",
              "...                  ...    ...  \n",
              "4530               219.0  12:00  \n",
              "4531               172.0  12:00  \n",
              "4532              3344.0  12:00  \n",
              "4533               262.0  12:00  \n",
              "4534               341.0  12:00  \n",
              "\n",
              "[4535 rows x 6 columns]"
            ]
          },
          "execution_count": 6,
          "metadata": {},
          "output_type": "execute_result"
        }
      ],
      "source": [
        "data.drop_duplicates() ### Absence de doublons"
      ]
    },
    {
      "cell_type": "code",
      "execution_count": null,
      "metadata": {
        "id": "1Ktp2LaiSuVC",
        "outputId": "638edb77-f801-47ed-e111-ac955ea6e7d1"
      },
      "outputs": [
        {
          "data": {
            "text/plain": [
              "<bound method Series.unique of 0                     Métropole du Grand Paris\n",
              "1                Métropole Européenne de Lille\n",
              "2                  Eurométropole de Strasbourg\n",
              "3                     Métropole du Grand Nancy\n",
              "4                   Métropole Nice Côte d'Azur\n",
              "                         ...                  \n",
              "4530        Métropole Grenoble-Alpes-Métropole\n",
              "4531    Métropole Toulon-Provence-Méditerranée\n",
              "4532                  Métropole du Grand Paris\n",
              "4533                 Métropole Rouen Normandie\n",
              "4534                        Toulouse Métropole\n",
              "Name: libelle_metropole, Length: 4535, dtype: object>"
            ]
          },
          "execution_count": 7,
          "metadata": {},
          "output_type": "execute_result"
        }
      ],
      "source": [
        "data['libelle_metropole'].unique # affichage de tous les métropoles"
      ]
    },
    {
      "cell_type": "code",
      "execution_count": null,
      "metadata": {
        "id": "8zo8qELWSuVD",
        "outputId": "6369a393-eae8-42e6-db3e-d5cf58a22719"
      },
      "outputs": [
        {
          "data": {
            "text/html": [
              "<div>\n",
              "<style scoped>\n",
              "    .dataframe tbody tr th:only-of-type {\n",
              "        vertical-align: middle;\n",
              "    }\n",
              "\n",
              "    .dataframe tbody tr th {\n",
              "        vertical-align: top;\n",
              "    }\n",
              "\n",
              "    .dataframe thead th {\n",
              "        text-align: right;\n",
              "    }\n",
              "</style>\n",
              "<table border=\"1\" class=\"dataframe\">\n",
              "  <thead>\n",
              "    <tr style=\"text-align: right;\">\n",
              "      <th></th>\n",
              "      <th>id</th>\n",
              "      <th>consommation</th>\n",
              "      <th>echanges_physiques</th>\n",
              "    </tr>\n",
              "  </thead>\n",
              "  <tbody>\n",
              "    <tr>\n",
              "      <th>id</th>\n",
              "      <td>1.000000</td>\n",
              "      <td>-0.070113</td>\n",
              "      <td>-0.068366</td>\n",
              "    </tr>\n",
              "    <tr>\n",
              "      <th>consommation</th>\n",
              "      <td>-0.070113</td>\n",
              "      <td>1.000000</td>\n",
              "      <td>0.951328</td>\n",
              "    </tr>\n",
              "    <tr>\n",
              "      <th>echanges_physiques</th>\n",
              "      <td>-0.068366</td>\n",
              "      <td>0.951328</td>\n",
              "      <td>1.000000</td>\n",
              "    </tr>\n",
              "  </tbody>\n",
              "</table>\n",
              "</div>"
            ],
            "text/plain": [
              "                          id  consommation  echanges_physiques\n",
              "id                  1.000000     -0.070113           -0.068366\n",
              "consommation       -0.070113      1.000000            0.951328\n",
              "echanges_physiques -0.068366      0.951328            1.000000"
            ]
          },
          "execution_count": 8,
          "metadata": {},
          "output_type": "execute_result"
        }
      ],
      "source": [
        "data.corr() # corrélation"
      ]
    },
    {
      "cell_type": "markdown",
      "metadata": {
        "id": "ad4oiA6rSuVE"
      },
      "source": [
        "### CREATIONS GRAPHIQUES"
      ]
    },
    {
      "cell_type": "code",
      "execution_count": null,
      "metadata": {
        "id": "2N1LCF72SuVE"
      },
      "outputs": [],
      "source": [
        "# librairies spécifiques (préparation à la modélisation)\n",
        "\n",
        "import matplotlib.pyplot as plt\n",
        "import warnings\n",
        "warnings.filterwarnings('ignore')\n",
        "from pandas.plotting import scatter_matrix\n",
        "import matplotlib.pyplot as plt\n",
        "import matplotlib.patches as patches\n",
        "from matplotlib import rcParams\n",
        "rcParams.update({'figure.autolayout': True})\n",
        "\n",
        "from functools import reduce\n",
        "import pylab\n",
        "import scipy.stats as scp\n",
        "\n",
        "from sklearn import linear_model\n",
        "from sklearn.cluster import KMeans\n",
        "from sklearn.manifold import TSNE\n",
        "from sklearn.pipeline import make_pipeline\n",
        "from sklearn.preprocessing import StandardScaler"
      ]
    },
    {
      "cell_type": "code",
      "execution_count": null,
      "metadata": {
        "scrolled": true,
        "id": "XFZv0QXjSuVE",
        "outputId": "27cd04ef-93cc-4074-839a-0fb115ad156c"
      },
      "outputs": [
        {
          "data": {
            "image/png": "[encoded data removed]",
            "text/plain": [
              "<Figure size 1080x432 with 2 Axes>"
            ]
          },
          "metadata": {
            "needs_background": "light"
          },
          "output_type": "display_data"
        }
      ],
      "source": [
        "# réalisation d'une heat map : \n",
        "plt.figure(figsize=(15,6))\n",
        "sns.heatmap(data.corr())\n",
        "plt.show()"
      ]
    },
    {
      "cell_type": "code",
      "execution_count": null,
      "metadata": {
        "id": "gTOJ_I3hSuVF",
        "outputId": "c0f3fce9-3aea-41ea-e1ac-2ea490383b07"
      },
      "outputs": [
        {
          "data": {
            "image/png": "[encoded data removed]",
            "text/plain": [
              "<Figure size 1080x432 with 1 Axes>"
            ]
          },
          "metadata": {
            "needs_background": "light"
          },
          "output_type": "display_data"
        }
      ],
      "source": [
        "# La consommation d'électricité par métropoles françaises\n",
        "plt.figure(figsize=(15,6))\n",
        "sns.barplot(x = 'libelle_metropole', y = 'consommation', data = data, palette='hls')\n",
        "plt.xticks(rotation = 90)\n",
        "plt.show()\n",
        "# La métropole de Paris avec la consommation la plus élevée suivi de celle d'Aix-Marseille-Provence et Lyon"
      ]
    },
    {
      "cell_type": "code",
      "execution_count": null,
      "metadata": {
        "scrolled": true,
        "id": "ejzjEdShSuVF",
        "outputId": "82461095-357c-415e-dff1-09362779f89a"
      },
      "outputs": [
        {
          "data": {
            "image/png": "[encoded data removed]",
            "text/plain": [
              "<Figure size 1440x432 with 1 Axes>"
            ]
          },
          "metadata": {
            "needs_background": "light"
          },
          "output_type": "display_data"
        }
      ],
      "source": [
        "# La consommation d'électricité des métropoles par heures\n",
        "plt.figure(figsize=(20,6))\n",
        "sns.barplot(x = 'heures', y = 'consommation', data = data, palette='hls')\n",
        "plt.xticks(rotation = 90)\n",
        "plt.show()"
      ]
    },
    {
      "cell_type": "markdown",
      "metadata": {
        "id": "J5jxRIi7SuVG"
      },
      "source": [
        "### MODELE D'APPRENTISSAGE SUPERVISEE : LA REGRESSION LINEAIRE "
      ]
    },
    {
      "cell_type": "code",
      "execution_count": null,
      "metadata": {
        "id": "58yak88iSuVG"
      },
      "outputs": [],
      "source": [
        "import seaborn as sns ### Package graphique\n",
        "# allow plots to appear within the notebook\n",
        "%matplotlib inline"
      ]
    },
    {
      "cell_type": "code",
      "execution_count": null,
      "metadata": {
        "id": "caUxMhh3SuVG",
        "outputId": "309946ff-4b8e-43c5-fff7-11272e299df5"
      },
      "outputs": [
        {
          "name": "stdout",
          "output_type": "stream",
          "text": [
            "<class 'pandas.core.frame.DataFrame'>\n",
            "RangeIndex: 4535 entries, 0 to 4534\n",
            "Data columns (total 6 columns):\n",
            " #   Column              Non-Null Count  Dtype  \n",
            "---  ------              --------------  -----  \n",
            " 0   libelle_metropole   4535 non-null   object \n",
            " 1   id                  4535 non-null   int64  \n",
            " 2   date_valeur         4535 non-null   object \n",
            " 3   consommation        4535 non-null   float64\n",
            " 4   echanges_physiques  4535 non-null   float64\n",
            " 5   heures              4535 non-null   object \n",
            "dtypes: float64(2), int64(1), object(3)\n",
            "memory usage: 212.7+ KB\n"
          ]
        }
      ],
      "source": [
        "data.info()"
      ]
    },
    {
      "cell_type": "raw",
      "metadata": {
        "id": "DUsRBXVMSuVG"
      },
      "source": [
        "## 1ere Etape"
      ]
    },
    {
      "cell_type": "code",
      "execution_count": null,
      "metadata": {
        "id": "9NdA-KLFSuVH",
        "outputId": "9a297986-fe6b-4b46-f22f-4f01cd271453"
      },
      "outputs": [
        {
          "data": {
            "text/plain": [
              "<AxesSubplot:xlabel='echanges_physiques', ylabel='consommation'>"
            ]
          },
          "execution_count": 50,
          "metadata": {},
          "output_type": "execute_result"
        },
        {
          "data": {
            "image/png": "[encoded data removed]",
            "text/plain": [
              "<Figure size 432x288 with 1 Axes>"
            ]
          },
          "metadata": {
            "needs_background": "light"
          },
          "output_type": "display_data"
        }
      ],
      "source": [
        "data.plot(\"echanges_physiques\", \"consommation\", kind = \"scatter\") # nuage de points"
      ]
    },
    {
      "cell_type": "code",
      "execution_count": null,
      "metadata": {
        "id": "yDxmqIKHSuVH",
        "outputId": "82b7c90a-bf35-4098-a166-b3c69edbc36a"
      },
      "outputs": [
        {
          "data": {
            "text/plain": [
              "<seaborn.axisgrid.PairGrid at 0x2b68c5ff280>"
            ]
          },
          "execution_count": 88,
          "metadata": {},
          "output_type": "execute_result"
        },
        {
          "data": {
            "image/png": "[encoded data removed]",
            "text/plain": [
              "<Figure size 352.8x504 with 1 Axes>"
            ]
          },
          "metadata": {
            "needs_background": "light"
          },
          "output_type": "display_data"
        }
      ],
      "source": [
        "# Visualisation avec l'ajout de la droite de régression\n",
        "sns.pairplot(data, x_vars=['echanges_physiques'], y_vars='consommation', size=7, aspect=0.7, kind='reg') \n",
        "# Argument (données, prédictrices, target)\n",
        "\n",
        "### Relation croissante entre les deux variables"
      ]
    },
    {
      "cell_type": "raw",
      "metadata": {
        "id": "1arI45UJSuVH"
      },
      "source": [
        "## 2e Etape : détection d'outliers \n",
        "Recherche des métropoles avec les consommations comprises entre 1000 et 2000"
      ]
    },
    {
      "cell_type": "code",
      "execution_count": null,
      "metadata": {
        "id": "uLkzD1nFSuVI",
        "outputId": "ca4e5e5c-8730-45ab-fc0e-cdc3f03b6c86"
      },
      "outputs": [
        {
          "data": {
            "text/html": [
              "<div>\n",
              "<style scoped>\n",
              "    .dataframe tbody tr th:only-of-type {\n",
              "        vertical-align: middle;\n",
              "    }\n",
              "\n",
              "    .dataframe tbody tr th {\n",
              "        vertical-align: top;\n",
              "    }\n",
              "\n",
              "    .dataframe thead th {\n",
              "        text-align: right;\n",
              "    }\n",
              "</style>\n",
              "<table border=\"1\" class=\"dataframe\">\n",
              "  <thead>\n",
              "    <tr style=\"text-align: right;\">\n",
              "      <th></th>\n",
              "      <th>libelle_metropole</th>\n",
              "      <th>id</th>\n",
              "      <th>date_valeur</th>\n",
              "      <th>consommation</th>\n",
              "      <th>echanges_physiques</th>\n",
              "      <th>heures</th>\n",
              "    </tr>\n",
              "  </thead>\n",
              "  <tbody>\n",
              "    <tr>\n",
              "      <th>0</th>\n",
              "      <td>Métropole du Grand Paris</td>\n",
              "      <td>1</td>\n",
              "      <td>2022-05-18</td>\n",
              "      <td>4122.0</td>\n",
              "      <td>4078.0</td>\n",
              "      <td>15:30</td>\n",
              "    </tr>\n",
              "    <tr>\n",
              "      <th>6</th>\n",
              "      <td>Métropole de Lyon</td>\n",
              "      <td>7</td>\n",
              "      <td>2022-05-18</td>\n",
              "      <td>1095.0</td>\n",
              "      <td>955.0</td>\n",
              "      <td>15:30</td>\n",
              "    </tr>\n",
              "    <tr>\n",
              "      <th>17</th>\n",
              "      <td>Métropole d'Aix-Marseille-Provence</td>\n",
              "      <td>18</td>\n",
              "      <td>2022-05-18</td>\n",
              "      <td>1519.0</td>\n",
              "      <td>394.0</td>\n",
              "      <td>15:30</td>\n",
              "    </tr>\n",
              "    <tr>\n",
              "      <th>28</th>\n",
              "      <td>Métropole du Grand Paris</td>\n",
              "      <td>29</td>\n",
              "      <td>2022-05-18</td>\n",
              "      <td>4132.0</td>\n",
              "      <td>4090.0</td>\n",
              "      <td>15:45</td>\n",
              "    </tr>\n",
              "    <tr>\n",
              "      <th>33</th>\n",
              "      <td>Métropole de Lyon</td>\n",
              "      <td>34</td>\n",
              "      <td>2022-05-18</td>\n",
              "      <td>1080.0</td>\n",
              "      <td>942.0</td>\n",
              "      <td>15:45</td>\n",
              "    </tr>\n",
              "    <tr>\n",
              "      <th>...</th>\n",
              "      <td>...</td>\n",
              "      <td>...</td>\n",
              "      <td>...</td>\n",
              "      <td>...</td>\n",
              "      <td>...</td>\n",
              "      <td>...</td>\n",
              "    </tr>\n",
              "    <tr>\n",
              "      <th>4460</th>\n",
              "      <td>Métropole du Grand Paris</td>\n",
              "      <td>4461</td>\n",
              "      <td>2022-05-22</td>\n",
              "      <td>3204.0</td>\n",
              "      <td>3161.0</td>\n",
              "      <td>11:00</td>\n",
              "    </tr>\n",
              "    <tr>\n",
              "      <th>4479</th>\n",
              "      <td>Métropole du Grand Paris</td>\n",
              "      <td>4480</td>\n",
              "      <td>2022-05-22</td>\n",
              "      <td>3287.0</td>\n",
              "      <td>3242.0</td>\n",
              "      <td>11:15</td>\n",
              "    </tr>\n",
              "    <tr>\n",
              "      <th>4497</th>\n",
              "      <td>Métropole du Grand Paris</td>\n",
              "      <td>4498</td>\n",
              "      <td>2022-05-22</td>\n",
              "      <td>3310.0</td>\n",
              "      <td>3267.0</td>\n",
              "      <td>11:30</td>\n",
              "    </tr>\n",
              "    <tr>\n",
              "      <th>4514</th>\n",
              "      <td>Métropole du Grand Paris</td>\n",
              "      <td>4515</td>\n",
              "      <td>2022-05-22</td>\n",
              "      <td>3347.0</td>\n",
              "      <td>3299.0</td>\n",
              "      <td>11:45</td>\n",
              "    </tr>\n",
              "    <tr>\n",
              "      <th>4532</th>\n",
              "      <td>Métropole du Grand Paris</td>\n",
              "      <td>4533</td>\n",
              "      <td>2022-05-22</td>\n",
              "      <td>3398.0</td>\n",
              "      <td>3344.0</td>\n",
              "      <td>12:00</td>\n",
              "    </tr>\n",
              "  </tbody>\n",
              "</table>\n",
              "<p>461 rows × 6 columns</p>\n",
              "</div>"
            ],
            "text/plain": [
              "                       libelle_metropole    id date_valeur  consommation  \\\n",
              "0               Métropole du Grand Paris     1  2022-05-18        4122.0   \n",
              "6                      Métropole de Lyon     7  2022-05-18        1095.0   \n",
              "17    Métropole d'Aix-Marseille-Provence    18  2022-05-18        1519.0   \n",
              "28              Métropole du Grand Paris    29  2022-05-18        4132.0   \n",
              "33                     Métropole de Lyon    34  2022-05-18        1080.0   \n",
              "...                                  ...   ...         ...           ...   \n",
              "4460            Métropole du Grand Paris  4461  2022-05-22        3204.0   \n",
              "4479            Métropole du Grand Paris  4480  2022-05-22        3287.0   \n",
              "4497            Métropole du Grand Paris  4498  2022-05-22        3310.0   \n",
              "4514            Métropole du Grand Paris  4515  2022-05-22        3347.0   \n",
              "4532            Métropole du Grand Paris  4533  2022-05-22        3398.0   \n",
              "\n",
              "      echanges_physiques heures  \n",
              "0                 4078.0  15:30  \n",
              "6                  955.0  15:30  \n",
              "17                 394.0  15:30  \n",
              "28                4090.0  15:45  \n",
              "33                 942.0  15:45  \n",
              "...                  ...    ...  \n",
              "4460              3161.0  11:00  \n",
              "4479              3242.0  11:15  \n",
              "4497              3267.0  11:30  \n",
              "4514              3299.0  11:45  \n",
              "4532              3344.0  12:00  \n",
              "\n",
              "[461 rows x 6 columns]"
            ]
          },
          "execution_count": 90,
          "metadata": {},
          "output_type": "execute_result"
        }
      ],
      "source": [
        "# les métropoles avec des consommations > 1000\n",
        "data1= data[data[\"consommation\"] > 1000]\n",
        "data1"
      ]
    },
    {
      "cell_type": "code",
      "execution_count": null,
      "metadata": {
        "id": "vNXtAi9fSuVI",
        "outputId": "871d2ce1-57ac-43b6-9666-f2df03bcacd6"
      },
      "outputs": [
        {
          "data": {
            "text/html": [
              "<div>\n",
              "<style scoped>\n",
              "    .dataframe tbody tr th:only-of-type {\n",
              "        vertical-align: middle;\n",
              "    }\n",
              "\n",
              "    .dataframe tbody tr th {\n",
              "        vertical-align: top;\n",
              "    }\n",
              "\n",
              "    .dataframe thead th {\n",
              "        text-align: right;\n",
              "    }\n",
              "</style>\n",
              "<table border=\"1\" class=\"dataframe\">\n",
              "  <thead>\n",
              "    <tr style=\"text-align: right;\">\n",
              "      <th></th>\n",
              "      <th>libelle_metropole</th>\n",
              "      <th>id</th>\n",
              "      <th>date_valeur</th>\n",
              "      <th>consommation</th>\n",
              "      <th>echanges_physiques</th>\n",
              "      <th>heures</th>\n",
              "    </tr>\n",
              "  </thead>\n",
              "  <tbody>\n",
              "    <tr>\n",
              "      <th>6</th>\n",
              "      <td>Métropole de Lyon</td>\n",
              "      <td>7</td>\n",
              "      <td>2022-05-18</td>\n",
              "      <td>1095.0</td>\n",
              "      <td>955.0</td>\n",
              "      <td>15:30</td>\n",
              "    </tr>\n",
              "    <tr>\n",
              "      <th>17</th>\n",
              "      <td>Métropole d'Aix-Marseille-Provence</td>\n",
              "      <td>18</td>\n",
              "      <td>2022-05-18</td>\n",
              "      <td>1519.0</td>\n",
              "      <td>394.0</td>\n",
              "      <td>15:30</td>\n",
              "    </tr>\n",
              "    <tr>\n",
              "      <th>33</th>\n",
              "      <td>Métropole de Lyon</td>\n",
              "      <td>34</td>\n",
              "      <td>2022-05-18</td>\n",
              "      <td>1080.0</td>\n",
              "      <td>942.0</td>\n",
              "      <td>15:45</td>\n",
              "    </tr>\n",
              "    <tr>\n",
              "      <th>38</th>\n",
              "      <td>Métropole d'Aix-Marseille-Provence</td>\n",
              "      <td>39</td>\n",
              "      <td>2022-05-18</td>\n",
              "      <td>1509.0</td>\n",
              "      <td>370.0</td>\n",
              "      <td>15:45</td>\n",
              "    </tr>\n",
              "    <tr>\n",
              "      <th>43</th>\n",
              "      <td>Métropole de Lyon</td>\n",
              "      <td>44</td>\n",
              "      <td>2022-05-18</td>\n",
              "      <td>1066.0</td>\n",
              "      <td>930.0</td>\n",
              "      <td>16:00</td>\n",
              "    </tr>\n",
              "    <tr>\n",
              "      <th>...</th>\n",
              "      <td>...</td>\n",
              "      <td>...</td>\n",
              "      <td>...</td>\n",
              "      <td>...</td>\n",
              "      <td>...</td>\n",
              "      <td>...</td>\n",
              "    </tr>\n",
              "    <tr>\n",
              "      <th>4365</th>\n",
              "      <td>Métropole d'Aix-Marseille-Provence</td>\n",
              "      <td>4366</td>\n",
              "      <td>2022-05-22</td>\n",
              "      <td>1314.0</td>\n",
              "      <td>362.0</td>\n",
              "      <td>09:45</td>\n",
              "    </tr>\n",
              "    <tr>\n",
              "      <th>4390</th>\n",
              "      <td>Métropole d'Aix-Marseille-Provence</td>\n",
              "      <td>4391</td>\n",
              "      <td>2022-05-22</td>\n",
              "      <td>1297.0</td>\n",
              "      <td>304.0</td>\n",
              "      <td>10:00</td>\n",
              "    </tr>\n",
              "    <tr>\n",
              "      <th>4404</th>\n",
              "      <td>Métropole d'Aix-Marseille-Provence</td>\n",
              "      <td>4405</td>\n",
              "      <td>2022-05-22</td>\n",
              "      <td>1317.0</td>\n",
              "      <td>323.0</td>\n",
              "      <td>10:15</td>\n",
              "    </tr>\n",
              "    <tr>\n",
              "      <th>4425</th>\n",
              "      <td>Métropole d'Aix-Marseille-Provence</td>\n",
              "      <td>4426</td>\n",
              "      <td>2022-05-22</td>\n",
              "      <td>1321.0</td>\n",
              "      <td>328.0</td>\n",
              "      <td>10:30</td>\n",
              "    </tr>\n",
              "    <tr>\n",
              "      <th>4437</th>\n",
              "      <td>Métropole d'Aix-Marseille-Provence</td>\n",
              "      <td>4438</td>\n",
              "      <td>2022-05-22</td>\n",
              "      <td>1307.0</td>\n",
              "      <td>362.0</td>\n",
              "      <td>10:45</td>\n",
              "    </tr>\n",
              "  </tbody>\n",
              "</table>\n",
              "<p>243 rows × 6 columns</p>\n",
              "</div>"
            ],
            "text/plain": [
              "                       libelle_metropole    id date_valeur  consommation  \\\n",
              "6                      Métropole de Lyon     7  2022-05-18        1095.0   \n",
              "17    Métropole d'Aix-Marseille-Provence    18  2022-05-18        1519.0   \n",
              "33                     Métropole de Lyon    34  2022-05-18        1080.0   \n",
              "38    Métropole d'Aix-Marseille-Provence    39  2022-05-18        1509.0   \n",
              "43                     Métropole de Lyon    44  2022-05-18        1066.0   \n",
              "...                                  ...   ...         ...           ...   \n",
              "4365  Métropole d'Aix-Marseille-Provence  4366  2022-05-22        1314.0   \n",
              "4390  Métropole d'Aix-Marseille-Provence  4391  2022-05-22        1297.0   \n",
              "4404  Métropole d'Aix-Marseille-Provence  4405  2022-05-22        1317.0   \n",
              "4425  Métropole d'Aix-Marseille-Provence  4426  2022-05-22        1321.0   \n",
              "4437  Métropole d'Aix-Marseille-Provence  4438  2022-05-22        1307.0   \n",
              "\n",
              "      echanges_physiques heures  \n",
              "6                  955.0  15:30  \n",
              "17                 394.0  15:30  \n",
              "33                 942.0  15:45  \n",
              "38                 370.0  15:45  \n",
              "43                 930.0  16:00  \n",
              "...                  ...    ...  \n",
              "4365               362.0  09:45  \n",
              "4390               304.0  10:00  \n",
              "4404               323.0  10:15  \n",
              "4425               328.0  10:30  \n",
              "4437               362.0  10:45  \n",
              "\n",
              "[243 rows x 6 columns]"
            ]
          },
          "execution_count": 91,
          "metadata": {},
          "output_type": "execute_result"
        }
      ],
      "source": [
        "# les métropoles avec des consommations < 2000\n",
        "data2= data1[data1[\"consommation\"] < 2000]\n",
        "data2"
      ]
    },
    {
      "cell_type": "raw",
      "metadata": {
        "id": "wWEJelpXSuVI"
      },
      "source": [
        "## 3e Etape"
      ]
    },
    {
      "cell_type": "code",
      "execution_count": null,
      "metadata": {
        "id": "Qdav6ZdVSuVI",
        "outputId": "33715df9-863b-4ff1-a60c-c4cf61ff400c"
      },
      "outputs": [
        {
          "data": {
            "text/plain": [
              "<AxesSubplot:xlabel='echanges_physiques', ylabel='consommation'>"
            ]
          },
          "execution_count": 94,
          "metadata": {},
          "output_type": "execute_result"
        },
        {
          "data": {
            "image/png": "[encoded data removed]",
            "text/plain": [
              "<Figure size 432x288 with 1 Axes>"
            ]
          },
          "metadata": {
            "needs_background": "light"
          },
          "output_type": "display_data"
        }
      ],
      "source": [
        "data2.plot(\"echanges_physiques\", \"consommation\", kind = \"scatter\") # nuage de points"
      ]
    },
    {
      "cell_type": "code",
      "execution_count": null,
      "metadata": {
        "id": "EW2LeR_MSuVI",
        "outputId": "54cb109b-a9b4-4576-918e-f115636554fd"
      },
      "outputs": [
        {
          "data": {
            "text/html": [
              "<div>\n",
              "<style scoped>\n",
              "    .dataframe tbody tr th:only-of-type {\n",
              "        vertical-align: middle;\n",
              "    }\n",
              "\n",
              "    .dataframe tbody tr th {\n",
              "        vertical-align: top;\n",
              "    }\n",
              "\n",
              "    .dataframe thead th {\n",
              "        text-align: right;\n",
              "    }\n",
              "</style>\n",
              "<table border=\"1\" class=\"dataframe\">\n",
              "  <thead>\n",
              "    <tr style=\"text-align: right;\">\n",
              "      <th></th>\n",
              "      <th>libelle_metropole</th>\n",
              "      <th>id</th>\n",
              "      <th>date_valeur</th>\n",
              "      <th>consommation</th>\n",
              "      <th>echanges_physiques</th>\n",
              "      <th>heures</th>\n",
              "    </tr>\n",
              "  </thead>\n",
              "  <tbody>\n",
              "    <tr>\n",
              "      <th>17</th>\n",
              "      <td>Métropole d'Aix-Marseille-Provence</td>\n",
              "      <td>18</td>\n",
              "      <td>2022-05-18</td>\n",
              "      <td>1519.0</td>\n",
              "      <td>394.0</td>\n",
              "      <td>15:30</td>\n",
              "    </tr>\n",
              "    <tr>\n",
              "      <th>38</th>\n",
              "      <td>Métropole d'Aix-Marseille-Provence</td>\n",
              "      <td>39</td>\n",
              "      <td>2022-05-18</td>\n",
              "      <td>1509.0</td>\n",
              "      <td>370.0</td>\n",
              "      <td>15:45</td>\n",
              "    </tr>\n",
              "    <tr>\n",
              "      <th>46</th>\n",
              "      <td>Métropole d'Aix-Marseille-Provence</td>\n",
              "      <td>47</td>\n",
              "      <td>2022-05-18</td>\n",
              "      <td>1490.0</td>\n",
              "      <td>347.0</td>\n",
              "      <td>16:00</td>\n",
              "    </tr>\n",
              "    <tr>\n",
              "      <th>75</th>\n",
              "      <td>Métropole d'Aix-Marseille-Provence</td>\n",
              "      <td>76</td>\n",
              "      <td>2022-05-18</td>\n",
              "      <td>1478.0</td>\n",
              "      <td>356.0</td>\n",
              "      <td>16:15</td>\n",
              "    </tr>\n",
              "    <tr>\n",
              "      <th>85</th>\n",
              "      <td>Métropole d'Aix-Marseille-Provence</td>\n",
              "      <td>86</td>\n",
              "      <td>2022-05-18</td>\n",
              "      <td>1513.0</td>\n",
              "      <td>387.0</td>\n",
              "      <td>16:30</td>\n",
              "    </tr>\n",
              "    <tr>\n",
              "      <th>...</th>\n",
              "      <td>...</td>\n",
              "      <td>...</td>\n",
              "      <td>...</td>\n",
              "      <td>...</td>\n",
              "      <td>...</td>\n",
              "      <td>...</td>\n",
              "    </tr>\n",
              "    <tr>\n",
              "      <th>4365</th>\n",
              "      <td>Métropole d'Aix-Marseille-Provence</td>\n",
              "      <td>4366</td>\n",
              "      <td>2022-05-22</td>\n",
              "      <td>1314.0</td>\n",
              "      <td>362.0</td>\n",
              "      <td>09:45</td>\n",
              "    </tr>\n",
              "    <tr>\n",
              "      <th>4390</th>\n",
              "      <td>Métropole d'Aix-Marseille-Provence</td>\n",
              "      <td>4391</td>\n",
              "      <td>2022-05-22</td>\n",
              "      <td>1297.0</td>\n",
              "      <td>304.0</td>\n",
              "      <td>10:00</td>\n",
              "    </tr>\n",
              "    <tr>\n",
              "      <th>4404</th>\n",
              "      <td>Métropole d'Aix-Marseille-Provence</td>\n",
              "      <td>4405</td>\n",
              "      <td>2022-05-22</td>\n",
              "      <td>1317.0</td>\n",
              "      <td>323.0</td>\n",
              "      <td>10:15</td>\n",
              "    </tr>\n",
              "    <tr>\n",
              "      <th>4425</th>\n",
              "      <td>Métropole d'Aix-Marseille-Provence</td>\n",
              "      <td>4426</td>\n",
              "      <td>2022-05-22</td>\n",
              "      <td>1321.0</td>\n",
              "      <td>328.0</td>\n",
              "      <td>10:30</td>\n",
              "    </tr>\n",
              "    <tr>\n",
              "      <th>4437</th>\n",
              "      <td>Métropole d'Aix-Marseille-Provence</td>\n",
              "      <td>4438</td>\n",
              "      <td>2022-05-22</td>\n",
              "      <td>1307.0</td>\n",
              "      <td>362.0</td>\n",
              "      <td>10:45</td>\n",
              "    </tr>\n",
              "  </tbody>\n",
              "</table>\n",
              "<p>207 rows × 6 columns</p>\n",
              "</div>"
            ],
            "text/plain": [
              "                       libelle_metropole    id date_valeur  consommation  \\\n",
              "17    Métropole d'Aix-Marseille-Provence    18  2022-05-18        1519.0   \n",
              "38    Métropole d'Aix-Marseille-Provence    39  2022-05-18        1509.0   \n",
              "46    Métropole d'Aix-Marseille-Provence    47  2022-05-18        1490.0   \n",
              "75    Métropole d'Aix-Marseille-Provence    76  2022-05-18        1478.0   \n",
              "85    Métropole d'Aix-Marseille-Provence    86  2022-05-18        1513.0   \n",
              "...                                  ...   ...         ...           ...   \n",
              "4365  Métropole d'Aix-Marseille-Provence  4366  2022-05-22        1314.0   \n",
              "4390  Métropole d'Aix-Marseille-Provence  4391  2022-05-22        1297.0   \n",
              "4404  Métropole d'Aix-Marseille-Provence  4405  2022-05-22        1317.0   \n",
              "4425  Métropole d'Aix-Marseille-Provence  4426  2022-05-22        1321.0   \n",
              "4437  Métropole d'Aix-Marseille-Provence  4438  2022-05-22        1307.0   \n",
              "\n",
              "      echanges_physiques heures  \n",
              "17                 394.0  15:30  \n",
              "38                 370.0  15:45  \n",
              "46                 347.0  16:00  \n",
              "75                 356.0  16:15  \n",
              "85                 387.0  16:30  \n",
              "...                  ...    ...  \n",
              "4365               362.0  09:45  \n",
              "4390               304.0  10:00  \n",
              "4404               323.0  10:15  \n",
              "4425               328.0  10:30  \n",
              "4437               362.0  10:45  \n",
              "\n",
              "[207 rows x 6 columns]"
            ]
          },
          "execution_count": 95,
          "metadata": {},
          "output_type": "execute_result"
        }
      ],
      "source": [
        "# Non sélection des outliers (consommation < 1100 à exclure) => se trouvant au niveau de la droite de régression\n",
        "data3= data2[data2[\"consommation\"] > 1100]\n",
        "data3"
      ]
    },
    {
      "cell_type": "code",
      "execution_count": null,
      "metadata": {
        "id": "WCwuoIFxSuVJ",
        "outputId": "a231e99a-6f86-4988-88c8-1ff888391f61"
      },
      "outputs": [
        {
          "data": {
            "text/plain": [
              "<AxesSubplot:xlabel='echanges_physiques', ylabel='consommation'>"
            ]
          },
          "execution_count": 96,
          "metadata": {},
          "output_type": "execute_result"
        },
        {
          "data": {
            "image/png": "[encoded data removed]",
            "text/plain": [
              "<Figure size 432x288 with 1 Axes>"
            ]
          },
          "metadata": {
            "needs_background": "light"
          },
          "output_type": "display_data"
        }
      ],
      "source": [
        "data3.plot(\"echanges_physiques\", \"consommation\", kind = \"scatter\") # nuage de points"
      ]
    },
    {
      "cell_type": "code",
      "execution_count": null,
      "metadata": {
        "id": "kkC-jCwqSuVJ",
        "outputId": "c3c349ad-7d98-46ae-bfa8-cdc3f54222fc"
      },
      "outputs": [
        {
          "data": {
            "text/plain": [
              "<seaborn.axisgrid.PairGrid at 0x2b68f46dc10>"
            ]
          },
          "execution_count": 124,
          "metadata": {},
          "output_type": "execute_result"
        },
        {
          "data": {
            "image/png": "[encoded data removed]",
            "text/plain": [
              "<Figure size 352.8x504 with 1 Axes>"
            ]
          },
          "metadata": {
            "needs_background": "light"
          },
          "output_type": "display_data"
        }
      ],
      "source": [
        "# Visualisation avec l'ajout de la droite de régression\n",
        "sns.pairplot(data, x_vars=['echanges_physiques'], y_vars='consommation', size=7, aspect=0.7, kind='reg') \n",
        "# Argument (données, prédictrices, target)"
      ]
    },
    {
      "cell_type": "code",
      "execution_count": null,
      "metadata": {
        "id": "t4nzgf8jSuVJ",
        "outputId": "f218e2af-5cbf-411c-9c11-440449e6f2d8"
      },
      "outputs": [
        {
          "data": {
            "text/plain": [
              "array([[4078., 4122.],\n",
              "       [ 692.,  896.],\n",
              "       [ 320.,  723.]])"
            ]
          },
          "execution_count": 125,
          "metadata": {},
          "output_type": "execute_result"
        }
      ],
      "source": [
        "# Séparer les variables associées au clustering des autres - Numpy array\n",
        "\n",
        "X = data[[\"echanges_physiques\", \"consommation\"]].values\n",
        "X[0:3]"
      ]
    },
    {
      "cell_type": "raw",
      "metadata": {
        "id": "uU_IFsMuSuVJ"
      },
      "source": [
        "## 4e Etape : déterminer le nombre de cluster à l'aide de la méthode d'elbow"
      ]
    },
    {
      "cell_type": "code",
      "execution_count": null,
      "metadata": {
        "id": "WwGbDAQpSuVJ"
      },
      "outputs": [],
      "source": [
        "clustering_score = []\n",
        "for i in range(1, 11): ##### On fait varier le nombre de cluster entre 1 et 10\n",
        "    kmeans = KMeans(n_clusters = i, init = 'random', random_state = 42)\n",
        "    kmeans.fit(X)\n",
        "    clustering_score.append(kmeans.inertia_) # inertia_ = Sum of squared distances of samples to their closest cluster center."
      ]
    },
    {
      "cell_type": "code",
      "execution_count": null,
      "metadata": {
        "id": "SjVOjtxHSuVJ",
        "outputId": "b55ff85a-5e34-4542-b31d-6b5618a8762f"
      },
      "outputs": [
        {
          "data": {
            "image/png": "[encoded data removed]",
            "text/plain": [
              "<Figure size 720x432 with 1 Axes>"
            ]
          },
          "metadata": {
            "needs_background": "light"
          },
          "output_type": "display_data"
        }
      ],
      "source": [
        "plt.figure(figsize=(10,6))\n",
        "plt.plot(range(1, 11), clustering_score)\n",
        "plt.scatter(3,clustering_score[2], s = 100, c = 'red', marker='*') #### Nombre de K optimal\n",
        "plt.title('The Elbow Method')\n",
        "plt.xlabel('No. of Clusters')\n",
        "plt.ylabel('Clustering Score')\n",
        "plt.show() ## Nombre de cluster optimal K = 3"
      ]
    },
    {
      "cell_type": "raw",
      "metadata": {
        "id": "xv-xSPm_SuVK"
      },
      "source": [
        "## 5e Etape : préparation du KMeans"
      ]
    },
    {
      "cell_type": "code",
      "execution_count": null,
      "metadata": {
        "id": "vlFWfSCSSuVK",
        "outputId": "d51eb9be-44a5-47c9-a051-fc9b81d06093"
      },
      "outputs": [
        {
          "data": {
            "text/plain": [
              "array([1, 2, 2, ..., 1, 0, 0])"
            ]
          },
          "execution_count": 134,
          "metadata": {},
          "output_type": "execute_result"
        }
      ],
      "source": [
        "kmeans= KMeans(n_clusters = 3, random_state = 1) ### Etape 1: Appel de la fonction KMEANS\n",
        "\n",
        "# Compute k-means clustering\n",
        "kmeans.fit(X) ##### Etape 2: Lancement du modèle: construction cluster\n",
        "\n",
        "# Compute cluster centers and predict cluster index for each sample.\n",
        "pred = kmeans.predict(X) ##### Etape 3: Attribution - Affecter à chaque observation, un groupe parmi les 5 définies\n",
        "pred ##### Catégorie déterminée par KMeans"
      ]
    },
    {
      "cell_type": "code",
      "execution_count": null,
      "metadata": {
        "id": "Mcqyy8-4SuVK",
        "outputId": "34e86412-f831-49ab-b3a2-5511137b27f6"
      },
      "outputs": [
        {
          "data": {
            "text/html": [
              "<div>\n",
              "<style scoped>\n",
              "    .dataframe tbody tr th:only-of-type {\n",
              "        vertical-align: middle;\n",
              "    }\n",
              "\n",
              "    .dataframe tbody tr th {\n",
              "        vertical-align: top;\n",
              "    }\n",
              "\n",
              "    .dataframe thead th {\n",
              "        text-align: right;\n",
              "    }\n",
              "</style>\n",
              "<table border=\"1\" class=\"dataframe\">\n",
              "  <thead>\n",
              "    <tr style=\"text-align: right;\">\n",
              "      <th></th>\n",
              "      <th>libelle_metropole</th>\n",
              "      <th>id</th>\n",
              "      <th>date_valeur</th>\n",
              "      <th>consommation</th>\n",
              "      <th>echanges_physiques</th>\n",
              "      <th>heures</th>\n",
              "      <th>cluster</th>\n",
              "    </tr>\n",
              "  </thead>\n",
              "  <tbody>\n",
              "    <tr>\n",
              "      <th>0</th>\n",
              "      <td>Métropole du Grand Paris</td>\n",
              "      <td>1</td>\n",
              "      <td>2022-05-18</td>\n",
              "      <td>4122.0</td>\n",
              "      <td>4078.0</td>\n",
              "      <td>15:30</td>\n",
              "      <td>1</td>\n",
              "    </tr>\n",
              "    <tr>\n",
              "      <th>1</th>\n",
              "      <td>Métropole Européenne de Lille</td>\n",
              "      <td>2</td>\n",
              "      <td>2022-05-18</td>\n",
              "      <td>896.0</td>\n",
              "      <td>692.0</td>\n",
              "      <td>15:30</td>\n",
              "      <td>2</td>\n",
              "    </tr>\n",
              "    <tr>\n",
              "      <th>2</th>\n",
              "      <td>Eurométropole de Strasbourg</td>\n",
              "      <td>3</td>\n",
              "      <td>2022-05-18</td>\n",
              "      <td>723.0</td>\n",
              "      <td>320.0</td>\n",
              "      <td>15:30</td>\n",
              "      <td>2</td>\n",
              "    </tr>\n",
              "    <tr>\n",
              "      <th>3</th>\n",
              "      <td>Métropole du Grand Nancy</td>\n",
              "      <td>4</td>\n",
              "      <td>2022-05-18</td>\n",
              "      <td>183.0</td>\n",
              "      <td>181.0</td>\n",
              "      <td>15:30</td>\n",
              "      <td>0</td>\n",
              "    </tr>\n",
              "    <tr>\n",
              "      <th>4</th>\n",
              "      <td>Métropole Nice Côte d'Azur</td>\n",
              "      <td>5</td>\n",
              "      <td>2022-05-18</td>\n",
              "      <td>183.0</td>\n",
              "      <td>83.0</td>\n",
              "      <td>15:30</td>\n",
              "      <td>0</td>\n",
              "    </tr>\n",
              "    <tr>\n",
              "      <th>...</th>\n",
              "      <td>...</td>\n",
              "      <td>...</td>\n",
              "      <td>...</td>\n",
              "      <td>...</td>\n",
              "      <td>...</td>\n",
              "      <td>...</td>\n",
              "      <td>...</td>\n",
              "    </tr>\n",
              "    <tr>\n",
              "      <th>4530</th>\n",
              "      <td>Métropole Grenoble-Alpes-Métropole</td>\n",
              "      <td>4531</td>\n",
              "      <td>2022-05-22</td>\n",
              "      <td>343.0</td>\n",
              "      <td>219.0</td>\n",
              "      <td>12:00</td>\n",
              "      <td>0</td>\n",
              "    </tr>\n",
              "    <tr>\n",
              "      <th>4531</th>\n",
              "      <td>Métropole Toulon-Provence-Méditerranée</td>\n",
              "      <td>4532</td>\n",
              "      <td>2022-05-22</td>\n",
              "      <td>201.0</td>\n",
              "      <td>172.0</td>\n",
              "      <td>12:00</td>\n",
              "      <td>0</td>\n",
              "    </tr>\n",
              "    <tr>\n",
              "      <th>4532</th>\n",
              "      <td>Métropole du Grand Paris</td>\n",
              "      <td>4533</td>\n",
              "      <td>2022-05-22</td>\n",
              "      <td>3398.0</td>\n",
              "      <td>3344.0</td>\n",
              "      <td>12:00</td>\n",
              "      <td>1</td>\n",
              "    </tr>\n",
              "    <tr>\n",
              "      <th>4533</th>\n",
              "      <td>Métropole Rouen Normandie</td>\n",
              "      <td>4534</td>\n",
              "      <td>2022-05-22</td>\n",
              "      <td>311.0</td>\n",
              "      <td>262.0</td>\n",
              "      <td>12:00</td>\n",
              "      <td>0</td>\n",
              "    </tr>\n",
              "    <tr>\n",
              "      <th>4534</th>\n",
              "      <td>Toulouse Métropole</td>\n",
              "      <td>4535</td>\n",
              "      <td>2022-05-22</td>\n",
              "      <td>351.0</td>\n",
              "      <td>341.0</td>\n",
              "      <td>12:00</td>\n",
              "      <td>0</td>\n",
              "    </tr>\n",
              "  </tbody>\n",
              "</table>\n",
              "<p>4535 rows × 7 columns</p>\n",
              "</div>"
            ],
            "text/plain": [
              "                           libelle_metropole    id date_valeur  consommation  \\\n",
              "0                   Métropole du Grand Paris     1  2022-05-18        4122.0   \n",
              "1              Métropole Européenne de Lille     2  2022-05-18         896.0   \n",
              "2                Eurométropole de Strasbourg     3  2022-05-18         723.0   \n",
              "3                   Métropole du Grand Nancy     4  2022-05-18         183.0   \n",
              "4                 Métropole Nice Côte d'Azur     5  2022-05-18         183.0   \n",
              "...                                      ...   ...         ...           ...   \n",
              "4530      Métropole Grenoble-Alpes-Métropole  4531  2022-05-22         343.0   \n",
              "4531  Métropole Toulon-Provence-Méditerranée  4532  2022-05-22         201.0   \n",
              "4532                Métropole du Grand Paris  4533  2022-05-22        3398.0   \n",
              "4533               Métropole Rouen Normandie  4534  2022-05-22         311.0   \n",
              "4534                      Toulouse Métropole  4535  2022-05-22         351.0   \n",
              "\n",
              "      echanges_physiques heures  cluster  \n",
              "0                 4078.0  15:30        1  \n",
              "1                  692.0  15:30        2  \n",
              "2                  320.0  15:30        2  \n",
              "3                  181.0  15:30        0  \n",
              "4                   83.0  15:30        0  \n",
              "...                  ...    ...      ...  \n",
              "4530               219.0  12:00        0  \n",
              "4531               172.0  12:00        0  \n",
              "4532              3344.0  12:00        1  \n",
              "4533               262.0  12:00        0  \n",
              "4534               341.0  12:00        0  \n",
              "\n",
              "[4535 rows x 7 columns]"
            ]
          },
          "execution_count": 135,
          "metadata": {},
          "output_type": "execute_result"
        }
      ],
      "source": [
        "data[\"cluster\"] = pred\n",
        "data"
      ]
    },
    {
      "cell_type": "code",
      "execution_count": null,
      "metadata": {
        "id": "vWeFshPESuVK",
        "outputId": "e774100b-a0b0-4070-aa8b-44bcaadefbac"
      },
      "outputs": [
        {
          "data": {
            "text/html": [
              "<div>\n",
              "<style scoped>\n",
              "    .dataframe tbody tr th:only-of-type {\n",
              "        vertical-align: middle;\n",
              "    }\n",
              "\n",
              "    .dataframe tbody tr th {\n",
              "        vertical-align: top;\n",
              "    }\n",
              "\n",
              "    .dataframe thead th {\n",
              "        text-align: right;\n",
              "    }\n",
              "</style>\n",
              "<table border=\"1\" class=\"dataframe\">\n",
              "  <thead>\n",
              "    <tr style=\"text-align: right;\">\n",
              "      <th></th>\n",
              "      <th>libelle_metropole</th>\n",
              "      <th>id</th>\n",
              "      <th>date_valeur</th>\n",
              "      <th>consommation</th>\n",
              "      <th>echanges_physiques</th>\n",
              "      <th>heures</th>\n",
              "      <th>cluster</th>\n",
              "    </tr>\n",
              "  </thead>\n",
              "  <tbody>\n",
              "    <tr>\n",
              "      <th>3</th>\n",
              "      <td>Métropole du Grand Nancy</td>\n",
              "      <td>4</td>\n",
              "      <td>2022-05-18</td>\n",
              "      <td>183.0</td>\n",
              "      <td>181.0</td>\n",
              "      <td>15:30</td>\n",
              "      <td>0</td>\n",
              "    </tr>\n",
              "    <tr>\n",
              "      <th>4</th>\n",
              "      <td>Métropole Nice Côte d'Azur</td>\n",
              "      <td>5</td>\n",
              "      <td>2022-05-18</td>\n",
              "      <td>183.0</td>\n",
              "      <td>83.0</td>\n",
              "      <td>15:30</td>\n",
              "      <td>0</td>\n",
              "    </tr>\n",
              "    <tr>\n",
              "      <th>5</th>\n",
              "      <td>Brest Métropole</td>\n",
              "      <td>6</td>\n",
              "      <td>2022-05-18</td>\n",
              "      <td>79.0</td>\n",
              "      <td>78.0</td>\n",
              "      <td>15:30</td>\n",
              "      <td>0</td>\n",
              "    </tr>\n",
              "    <tr>\n",
              "      <th>7</th>\n",
              "      <td>Montpellier Méditerranée Métropole</td>\n",
              "      <td>8</td>\n",
              "      <td>2022-05-18</td>\n",
              "      <td>308.0</td>\n",
              "      <td>270.0</td>\n",
              "      <td>15:30</td>\n",
              "      <td>0</td>\n",
              "    </tr>\n",
              "    <tr>\n",
              "      <th>8</th>\n",
              "      <td>Métropole Grenoble-Alpes-Métropole</td>\n",
              "      <td>9</td>\n",
              "      <td>2022-05-18</td>\n",
              "      <td>359.0</td>\n",
              "      <td>253.0</td>\n",
              "      <td>15:30</td>\n",
              "      <td>0</td>\n",
              "    </tr>\n",
              "    <tr>\n",
              "      <th>...</th>\n",
              "      <td>...</td>\n",
              "      <td>...</td>\n",
              "      <td>...</td>\n",
              "      <td>...</td>\n",
              "      <td>...</td>\n",
              "      <td>...</td>\n",
              "      <td>...</td>\n",
              "    </tr>\n",
              "    <tr>\n",
              "      <th>4529</th>\n",
              "      <td>Orléans Métropole</td>\n",
              "      <td>4530</td>\n",
              "      <td>2022-05-22</td>\n",
              "      <td>154.0</td>\n",
              "      <td>135.0</td>\n",
              "      <td>12:00</td>\n",
              "      <td>0</td>\n",
              "    </tr>\n",
              "    <tr>\n",
              "      <th>4530</th>\n",
              "      <td>Métropole Grenoble-Alpes-Métropole</td>\n",
              "      <td>4531</td>\n",
              "      <td>2022-05-22</td>\n",
              "      <td>343.0</td>\n",
              "      <td>219.0</td>\n",
              "      <td>12:00</td>\n",
              "      <td>0</td>\n",
              "    </tr>\n",
              "    <tr>\n",
              "      <th>4531</th>\n",
              "      <td>Métropole Toulon-Provence-Méditerranée</td>\n",
              "      <td>4532</td>\n",
              "      <td>2022-05-22</td>\n",
              "      <td>201.0</td>\n",
              "      <td>172.0</td>\n",
              "      <td>12:00</td>\n",
              "      <td>0</td>\n",
              "    </tr>\n",
              "    <tr>\n",
              "      <th>4533</th>\n",
              "      <td>Métropole Rouen Normandie</td>\n",
              "      <td>4534</td>\n",
              "      <td>2022-05-22</td>\n",
              "      <td>311.0</td>\n",
              "      <td>262.0</td>\n",
              "      <td>12:00</td>\n",
              "      <td>0</td>\n",
              "    </tr>\n",
              "    <tr>\n",
              "      <th>4534</th>\n",
              "      <td>Toulouse Métropole</td>\n",
              "      <td>4535</td>\n",
              "      <td>2022-05-22</td>\n",
              "      <td>351.0</td>\n",
              "      <td>341.0</td>\n",
              "      <td>12:00</td>\n",
              "      <td>0</td>\n",
              "    </tr>\n",
              "  </tbody>\n",
              "</table>\n",
              "<p>3618 rows × 7 columns</p>\n",
              "</div>"
            ],
            "text/plain": [
              "                           libelle_metropole    id date_valeur  consommation  \\\n",
              "3                   Métropole du Grand Nancy     4  2022-05-18         183.0   \n",
              "4                 Métropole Nice Côte d'Azur     5  2022-05-18         183.0   \n",
              "5                            Brest Métropole     6  2022-05-18          79.0   \n",
              "7         Montpellier Méditerranée Métropole     8  2022-05-18         308.0   \n",
              "8         Métropole Grenoble-Alpes-Métropole     9  2022-05-18         359.0   \n",
              "...                                      ...   ...         ...           ...   \n",
              "4529                       Orléans Métropole  4530  2022-05-22         154.0   \n",
              "4530      Métropole Grenoble-Alpes-Métropole  4531  2022-05-22         343.0   \n",
              "4531  Métropole Toulon-Provence-Méditerranée  4532  2022-05-22         201.0   \n",
              "4533               Métropole Rouen Normandie  4534  2022-05-22         311.0   \n",
              "4534                      Toulouse Métropole  4535  2022-05-22         351.0   \n",
              "\n",
              "      echanges_physiques heures  cluster  \n",
              "3                  181.0  15:30        0  \n",
              "4                   83.0  15:30        0  \n",
              "5                   78.0  15:30        0  \n",
              "7                  270.0  15:30        0  \n",
              "8                  253.0  15:30        0  \n",
              "...                  ...    ...      ...  \n",
              "4529               135.0  12:00        0  \n",
              "4530               219.0  12:00        0  \n",
              "4531               172.0  12:00        0  \n",
              "4533               262.0  12:00        0  \n",
              "4534               341.0  12:00        0  \n",
              "\n",
              "[3618 rows x 7 columns]"
            ]
          },
          "execution_count": 136,
          "metadata": {},
          "output_type": "execute_result"
        }
      ],
      "source": [
        "### Etude du cluster 0 :\n",
        "data[data[\"cluster\"] == 0]"
      ]
    },
    {
      "cell_type": "code",
      "execution_count": null,
      "metadata": {
        "id": "0BJqZMmmSuVK",
        "outputId": "c5b0f9ab-2bc7-43af-9172-73ec66fef510"
      },
      "outputs": [
        {
          "data": {
            "text/plain": [
              "228.75124378109453"
            ]
          },
          "execution_count": 137,
          "metadata": {},
          "output_type": "execute_result"
        }
      ],
      "source": [
        "data[data[\"cluster\"] == 0].consommation.mean() #### ce groupe consomme 228 en moyenne"
      ]
    },
    {
      "cell_type": "code",
      "execution_count": null,
      "metadata": {
        "id": "R3KDe06bSuVL",
        "outputId": "3ec5ba88-16ee-4707-c492-3bb0c3f7316d"
      },
      "outputs": [
        {
          "data": {
            "text/plain": [
              "193.93698175787728"
            ]
          },
          "execution_count": 138,
          "metadata": {},
          "output_type": "execute_result"
        }
      ],
      "source": [
        "data[data[\"cluster\"] == 0][\"echanges_physiques\"].mean()  #### 193 échanges physiques en moyenne"
      ]
    },
    {
      "cell_type": "code",
      "execution_count": null,
      "metadata": {
        "id": "E1yD24k0SuVL",
        "outputId": "ee4048de-c291-4f68-c749-2a857f845ae1"
      },
      "outputs": [
        {
          "data": {
            "text/plain": [
              "libelle_metropole\n",
              "Bordeaux Métropole                        165\n",
              "Brest Métropole                           207\n",
              "Clermont Auvergne Métropole               207\n",
              "Dijon Métropole                           207\n",
              "Eurométropole de Strasbourg               197\n",
              "Montpellier Méditerranée Métropole        218\n",
              "Métropole Européenne de Lille               1\n",
              "Métropole Grenoble-Alpes-Métropole        218\n",
              "Métropole Nice Côte d'Azur                218\n",
              "Métropole Rennes Métropole                218\n",
              "Métropole Rouen Normandie                 218\n",
              "Métropole Toulon-Provence-Méditerranée    218\n",
              "Métropole du Grand Nancy                  218\n",
              "Nantes Métropole                          218\n",
              "Orléans Métropole                         236\n",
              "Saint-Etienne Métropole                   218\n",
              "Toulouse Métropole                        218\n",
              "Tours Métropole Val de Loire              218\n",
              "dtype: int64"
            ]
          },
          "execution_count": 139,
          "metadata": {},
          "output_type": "execute_result"
        }
      ],
      "source": [
        "data[data[\"cluster\"] == 0].groupby(\"libelle_metropole\").size()  "
      ]
    },
    {
      "cell_type": "code",
      "execution_count": null,
      "metadata": {
        "id": "5LaydUAXSuVL",
        "outputId": "834483be-37b2-4d56-90a1-0d91dfa6b34b"
      },
      "outputs": [
        {
          "data": {
            "text/html": [
              "<div>\n",
              "<style scoped>\n",
              "    .dataframe tbody tr th:only-of-type {\n",
              "        vertical-align: middle;\n",
              "    }\n",
              "\n",
              "    .dataframe tbody tr th {\n",
              "        vertical-align: top;\n",
              "    }\n",
              "\n",
              "    .dataframe thead th {\n",
              "        text-align: right;\n",
              "    }\n",
              "</style>\n",
              "<table border=\"1\" class=\"dataframe\">\n",
              "  <thead>\n",
              "    <tr style=\"text-align: right;\">\n",
              "      <th></th>\n",
              "      <th>libelle_metropole</th>\n",
              "      <th>id</th>\n",
              "      <th>date_valeur</th>\n",
              "      <th>consommation</th>\n",
              "      <th>echanges_physiques</th>\n",
              "      <th>heures</th>\n",
              "      <th>cluster</th>\n",
              "    </tr>\n",
              "  </thead>\n",
              "  <tbody>\n",
              "    <tr>\n",
              "      <th>0</th>\n",
              "      <td>Métropole du Grand Paris</td>\n",
              "      <td>1</td>\n",
              "      <td>2022-05-18</td>\n",
              "      <td>4122.0</td>\n",
              "      <td>4078.0</td>\n",
              "      <td>15:30</td>\n",
              "      <td>1</td>\n",
              "    </tr>\n",
              "    <tr>\n",
              "      <th>28</th>\n",
              "      <td>Métropole du Grand Paris</td>\n",
              "      <td>29</td>\n",
              "      <td>2022-05-18</td>\n",
              "      <td>4132.0</td>\n",
              "      <td>4090.0</td>\n",
              "      <td>15:45</td>\n",
              "      <td>1</td>\n",
              "    </tr>\n",
              "    <tr>\n",
              "      <th>52</th>\n",
              "      <td>Métropole du Grand Paris</td>\n",
              "      <td>53</td>\n",
              "      <td>2022-05-18</td>\n",
              "      <td>4143.0</td>\n",
              "      <td>4102.0</td>\n",
              "      <td>16:00</td>\n",
              "      <td>1</td>\n",
              "    </tr>\n",
              "    <tr>\n",
              "      <th>80</th>\n",
              "      <td>Métropole du Grand Paris</td>\n",
              "      <td>81</td>\n",
              "      <td>2022-05-18</td>\n",
              "      <td>4166.0</td>\n",
              "      <td>4124.0</td>\n",
              "      <td>16:15</td>\n",
              "      <td>1</td>\n",
              "    </tr>\n",
              "    <tr>\n",
              "      <th>101</th>\n",
              "      <td>Métropole du Grand Paris</td>\n",
              "      <td>102</td>\n",
              "      <td>2022-05-18</td>\n",
              "      <td>4109.0</td>\n",
              "      <td>4068.0</td>\n",
              "      <td>16:30</td>\n",
              "      <td>1</td>\n",
              "    </tr>\n",
              "    <tr>\n",
              "      <th>...</th>\n",
              "      <td>...</td>\n",
              "      <td>...</td>\n",
              "      <td>...</td>\n",
              "      <td>...</td>\n",
              "      <td>...</td>\n",
              "      <td>...</td>\n",
              "      <td>...</td>\n",
              "    </tr>\n",
              "    <tr>\n",
              "      <th>4460</th>\n",
              "      <td>Métropole du Grand Paris</td>\n",
              "      <td>4461</td>\n",
              "      <td>2022-05-22</td>\n",
              "      <td>3204.0</td>\n",
              "      <td>3161.0</td>\n",
              "      <td>11:00</td>\n",
              "      <td>1</td>\n",
              "    </tr>\n",
              "    <tr>\n",
              "      <th>4479</th>\n",
              "      <td>Métropole du Grand Paris</td>\n",
              "      <td>4480</td>\n",
              "      <td>2022-05-22</td>\n",
              "      <td>3287.0</td>\n",
              "      <td>3242.0</td>\n",
              "      <td>11:15</td>\n",
              "      <td>1</td>\n",
              "    </tr>\n",
              "    <tr>\n",
              "      <th>4497</th>\n",
              "      <td>Métropole du Grand Paris</td>\n",
              "      <td>4498</td>\n",
              "      <td>2022-05-22</td>\n",
              "      <td>3310.0</td>\n",
              "      <td>3267.0</td>\n",
              "      <td>11:30</td>\n",
              "      <td>1</td>\n",
              "    </tr>\n",
              "    <tr>\n",
              "      <th>4514</th>\n",
              "      <td>Métropole du Grand Paris</td>\n",
              "      <td>4515</td>\n",
              "      <td>2022-05-22</td>\n",
              "      <td>3347.0</td>\n",
              "      <td>3299.0</td>\n",
              "      <td>11:45</td>\n",
              "      <td>1</td>\n",
              "    </tr>\n",
              "    <tr>\n",
              "      <th>4532</th>\n",
              "      <td>Métropole du Grand Paris</td>\n",
              "      <td>4533</td>\n",
              "      <td>2022-05-22</td>\n",
              "      <td>3398.0</td>\n",
              "      <td>3344.0</td>\n",
              "      <td>12:00</td>\n",
              "      <td>1</td>\n",
              "    </tr>\n",
              "  </tbody>\n",
              "</table>\n",
              "<p>218 rows × 7 columns</p>\n",
              "</div>"
            ],
            "text/plain": [
              "             libelle_metropole    id date_valeur  consommation  \\\n",
              "0     Métropole du Grand Paris     1  2022-05-18        4122.0   \n",
              "28    Métropole du Grand Paris    29  2022-05-18        4132.0   \n",
              "52    Métropole du Grand Paris    53  2022-05-18        4143.0   \n",
              "80    Métropole du Grand Paris    81  2022-05-18        4166.0   \n",
              "101   Métropole du Grand Paris   102  2022-05-18        4109.0   \n",
              "...                        ...   ...         ...           ...   \n",
              "4460  Métropole du Grand Paris  4461  2022-05-22        3204.0   \n",
              "4479  Métropole du Grand Paris  4480  2022-05-22        3287.0   \n",
              "4497  Métropole du Grand Paris  4498  2022-05-22        3310.0   \n",
              "4514  Métropole du Grand Paris  4515  2022-05-22        3347.0   \n",
              "4532  Métropole du Grand Paris  4533  2022-05-22        3398.0   \n",
              "\n",
              "      echanges_physiques heures  cluster  \n",
              "0                 4078.0  15:30        1  \n",
              "28                4090.0  15:45        1  \n",
              "52                4102.0  16:00        1  \n",
              "80                4124.0  16:15        1  \n",
              "101               4068.0  16:30        1  \n",
              "...                  ...    ...      ...  \n",
              "4460              3161.0  11:00        1  \n",
              "4479              3242.0  11:15        1  \n",
              "4497              3267.0  11:30        1  \n",
              "4514              3299.0  11:45        1  \n",
              "4532              3344.0  12:00        1  \n",
              "\n",
              "[218 rows x 7 columns]"
            ]
          },
          "execution_count": 140,
          "metadata": {},
          "output_type": "execute_result"
        }
      ],
      "source": [
        "### Etude du cluster 1 :\n",
        "data[data[\"cluster\"] == 1]"
      ]
    },
    {
      "cell_type": "code",
      "execution_count": null,
      "metadata": {
        "id": "0C8A3jWNSuVL",
        "outputId": "bb48679b-00b6-4017-ad9b-e80bc76ca97d"
      },
      "outputs": [
        {
          "data": {
            "text/plain": [
              "3256.6605504587155"
            ]
          },
          "execution_count": 141,
          "metadata": {},
          "output_type": "execute_result"
        }
      ],
      "source": [
        "data[data[\"cluster\"] == 1].consommation.mean() #### ce groupe consomme 3256 en moyenne"
      ]
    },
    {
      "cell_type": "code",
      "execution_count": null,
      "metadata": {
        "id": "Pf0kK1tESuVL",
        "outputId": "6792e1f0-ef2c-48d1-86b3-1181a9a7297d"
      },
      "outputs": [
        {
          "data": {
            "text/plain": [
              "3214.2201834862385"
            ]
          },
          "execution_count": 142,
          "metadata": {},
          "output_type": "execute_result"
        }
      ],
      "source": [
        "data[data[\"cluster\"] == 1][\"echanges_physiques\"].mean()  #### 3214 échanges physiques en moyenne"
      ]
    },
    {
      "cell_type": "code",
      "execution_count": null,
      "metadata": {
        "id": "PaQFY4d8SuVL",
        "outputId": "960a4f54-9631-4720-f6d3-996707023a09"
      },
      "outputs": [
        {
          "data": {
            "text/plain": [
              "libelle_metropole\n",
              "Métropole du Grand Paris    218\n",
              "dtype: int64"
            ]
          },
          "execution_count": 143,
          "metadata": {},
          "output_type": "execute_result"
        }
      ],
      "source": [
        "data[data[\"cluster\"] == 1].groupby(\"libelle_metropole\").size() "
      ]
    },
    {
      "cell_type": "code",
      "execution_count": null,
      "metadata": {
        "id": "fs4GVGCcSuVM",
        "outputId": "60eb1c28-355c-4275-a527-ab0f44cbef58"
      },
      "outputs": [
        {
          "data": {
            "text/html": [
              "<div>\n",
              "<style scoped>\n",
              "    .dataframe tbody tr th:only-of-type {\n",
              "        vertical-align: middle;\n",
              "    }\n",
              "\n",
              "    .dataframe tbody tr th {\n",
              "        vertical-align: top;\n",
              "    }\n",
              "\n",
              "    .dataframe thead th {\n",
              "        text-align: right;\n",
              "    }\n",
              "</style>\n",
              "<table border=\"1\" class=\"dataframe\">\n",
              "  <thead>\n",
              "    <tr style=\"text-align: right;\">\n",
              "      <th></th>\n",
              "      <th>libelle_metropole</th>\n",
              "      <th>id</th>\n",
              "      <th>date_valeur</th>\n",
              "      <th>consommation</th>\n",
              "      <th>echanges_physiques</th>\n",
              "      <th>heures</th>\n",
              "      <th>cluster</th>\n",
              "    </tr>\n",
              "  </thead>\n",
              "  <tbody>\n",
              "    <tr>\n",
              "      <th>1</th>\n",
              "      <td>Métropole Européenne de Lille</td>\n",
              "      <td>2</td>\n",
              "      <td>2022-05-18</td>\n",
              "      <td>896.0</td>\n",
              "      <td>692.0</td>\n",
              "      <td>15:30</td>\n",
              "      <td>2</td>\n",
              "    </tr>\n",
              "    <tr>\n",
              "      <th>2</th>\n",
              "      <td>Eurométropole de Strasbourg</td>\n",
              "      <td>3</td>\n",
              "      <td>2022-05-18</td>\n",
              "      <td>723.0</td>\n",
              "      <td>320.0</td>\n",
              "      <td>15:30</td>\n",
              "      <td>2</td>\n",
              "    </tr>\n",
              "    <tr>\n",
              "      <th>6</th>\n",
              "      <td>Métropole de Lyon</td>\n",
              "      <td>7</td>\n",
              "      <td>2022-05-18</td>\n",
              "      <td>1095.0</td>\n",
              "      <td>955.0</td>\n",
              "      <td>15:30</td>\n",
              "      <td>2</td>\n",
              "    </tr>\n",
              "    <tr>\n",
              "      <th>17</th>\n",
              "      <td>Métropole d'Aix-Marseille-Provence</td>\n",
              "      <td>18</td>\n",
              "      <td>2022-05-18</td>\n",
              "      <td>1519.0</td>\n",
              "      <td>394.0</td>\n",
              "      <td>15:30</td>\n",
              "      <td>2</td>\n",
              "    </tr>\n",
              "    <tr>\n",
              "      <th>24</th>\n",
              "      <td>Métropole Européenne de Lille</td>\n",
              "      <td>25</td>\n",
              "      <td>2022-05-18</td>\n",
              "      <td>889.0</td>\n",
              "      <td>686.0</td>\n",
              "      <td>15:45</td>\n",
              "      <td>2</td>\n",
              "    </tr>\n",
              "    <tr>\n",
              "      <th>...</th>\n",
              "      <td>...</td>\n",
              "      <td>...</td>\n",
              "      <td>...</td>\n",
              "      <td>...</td>\n",
              "      <td>...</td>\n",
              "      <td>...</td>\n",
              "      <td>...</td>\n",
              "    </tr>\n",
              "    <tr>\n",
              "      <th>4496</th>\n",
              "      <td>Métropole de Lyon</td>\n",
              "      <td>4497</td>\n",
              "      <td>2022-05-22</td>\n",
              "      <td>842.0</td>\n",
              "      <td>715.0</td>\n",
              "      <td>11:30</td>\n",
              "      <td>2</td>\n",
              "    </tr>\n",
              "    <tr>\n",
              "      <th>4504</th>\n",
              "      <td>Métropole Européenne de Lille</td>\n",
              "      <td>4505</td>\n",
              "      <td>2022-05-22</td>\n",
              "      <td>735.0</td>\n",
              "      <td>543.0</td>\n",
              "      <td>11:45</td>\n",
              "      <td>2</td>\n",
              "    </tr>\n",
              "    <tr>\n",
              "      <th>4506</th>\n",
              "      <td>Métropole de Lyon</td>\n",
              "      <td>4507</td>\n",
              "      <td>2022-05-22</td>\n",
              "      <td>843.0</td>\n",
              "      <td>711.0</td>\n",
              "      <td>11:45</td>\n",
              "      <td>2</td>\n",
              "    </tr>\n",
              "    <tr>\n",
              "      <th>4524</th>\n",
              "      <td>Métropole de Lyon</td>\n",
              "      <td>4525</td>\n",
              "      <td>2022-05-22</td>\n",
              "      <td>880.0</td>\n",
              "      <td>750.0</td>\n",
              "      <td>12:00</td>\n",
              "      <td>2</td>\n",
              "    </tr>\n",
              "    <tr>\n",
              "      <th>4525</th>\n",
              "      <td>Métropole Européenne de Lille</td>\n",
              "      <td>4526</td>\n",
              "      <td>2022-05-22</td>\n",
              "      <td>761.0</td>\n",
              "      <td>566.0</td>\n",
              "      <td>12:00</td>\n",
              "      <td>2</td>\n",
              "    </tr>\n",
              "  </tbody>\n",
              "</table>\n",
              "<p>699 rows × 7 columns</p>\n",
              "</div>"
            ],
            "text/plain": [
              "                       libelle_metropole    id date_valeur  consommation  \\\n",
              "1          Métropole Européenne de Lille     2  2022-05-18         896.0   \n",
              "2            Eurométropole de Strasbourg     3  2022-05-18         723.0   \n",
              "6                      Métropole de Lyon     7  2022-05-18        1095.0   \n",
              "17    Métropole d'Aix-Marseille-Provence    18  2022-05-18        1519.0   \n",
              "24         Métropole Européenne de Lille    25  2022-05-18         889.0   \n",
              "...                                  ...   ...         ...           ...   \n",
              "4496                   Métropole de Lyon  4497  2022-05-22         842.0   \n",
              "4504       Métropole Européenne de Lille  4505  2022-05-22         735.0   \n",
              "4506                   Métropole de Lyon  4507  2022-05-22         843.0   \n",
              "4524                   Métropole de Lyon  4525  2022-05-22         880.0   \n",
              "4525       Métropole Européenne de Lille  4526  2022-05-22         761.0   \n",
              "\n",
              "      echanges_physiques heures  cluster  \n",
              "1                  692.0  15:30        2  \n",
              "2                  320.0  15:30        2  \n",
              "6                  955.0  15:30        2  \n",
              "17                 394.0  15:30        2  \n",
              "24                 686.0  15:45        2  \n",
              "...                  ...    ...      ...  \n",
              "4496               715.0  11:30        2  \n",
              "4504               543.0  11:45        2  \n",
              "4506               711.0  11:45        2  \n",
              "4524               750.0  12:00        2  \n",
              "4525               566.0  12:00        2  \n",
              "\n",
              "[699 rows x 7 columns]"
            ]
          },
          "execution_count": 144,
          "metadata": {},
          "output_type": "execute_result"
        }
      ],
      "source": [
        "### Etude du cluster 2 :\n",
        "data[data[\"cluster\"] == 2]"
      ]
    },
    {
      "cell_type": "code",
      "execution_count": null,
      "metadata": {
        "id": "52LUeGAkSuVM",
        "outputId": "f4f4cd2f-e097-4546-c159-1bef52fc8986"
      },
      "outputs": [
        {
          "data": {
            "text/plain": [
              "966.5221745350501"
            ]
          },
          "execution_count": 145,
          "metadata": {},
          "output_type": "execute_result"
        }
      ],
      "source": [
        "data[data[\"cluster\"] == 2].consommation.mean() #### ce groupe consomme 966 en moyenne"
      ]
    },
    {
      "cell_type": "code",
      "execution_count": null,
      "metadata": {
        "id": "UBlLmUrxSuVM",
        "outputId": "86b7b3ad-d8e9-466c-93f8-5a11a672e088"
      },
      "outputs": [
        {
          "data": {
            "text/plain": [
              "557.0314735336194"
            ]
          },
          "execution_count": 146,
          "metadata": {},
          "output_type": "execute_result"
        }
      ],
      "source": [
        "data[data[\"cluster\"] == 2][\"echanges_physiques\"].mean()  #### 557 échanges physiques en moyenne"
      ]
    },
    {
      "cell_type": "code",
      "execution_count": null,
      "metadata": {
        "id": "fZmVx-n0SuVM",
        "outputId": "7f1b66ba-ca8e-4524-c257-f496b5ce949d"
      },
      "outputs": [
        {
          "data": {
            "text/plain": [
              "libelle_metropole\n",
              "Bordeaux Métropole                     42\n",
              "Eurométropole de Strasbourg            21\n",
              "Métropole Européenne de Lille         217\n",
              "Métropole d'Aix-Marseille-Provence    207\n",
              "Métropole de Lyon                     212\n",
              "dtype: int64"
            ]
          },
          "execution_count": 147,
          "metadata": {},
          "output_type": "execute_result"
        }
      ],
      "source": [
        "data[data[\"cluster\"] == 2].groupby(\"libelle_metropole\").size()"
      ]
    },
    {
      "cell_type": "code",
      "execution_count": null,
      "metadata": {
        "id": "TMGTZldRSuVM",
        "outputId": "b90dfeee-1032-4766-9063-8283fb7c4682"
      },
      "outputs": [
        {
          "data": {
            "text/plain": [
              "Text(0.5, 1.0, 'Conso x Echanges')"
            ]
          },
          "execution_count": 148,
          "metadata": {},
          "output_type": "execute_result"
        },
        {
          "data": {
            "image/png": "[encoded data removed]",
            "text/plain": [
              "<Figure size 720x432 with 1 Axes>"
            ]
          },
          "metadata": {
            "needs_background": "light"
          },
          "output_type": "display_data"
        }
      ],
      "source": [
        "# Affichage des clusters \n",
        "plt.figure(figsize=(10,6))\n",
        "plt.scatter(X[pred == 0, 0], X[pred == 0, 1], c = 'brown', label = 'Cluster 0')\n",
        "plt.scatter(X[pred == 1, 0], X[pred == 1, 1], c = 'green', label = 'Cluster 1')\n",
        "plt.scatter(X[pred == 2, 0], X[pred == 2, 1], c = 'blue', label = 'Cluster 2')\n",
        "\n",
        "plt.scatter(kmeans.cluster_centers_[:,0], kmeans.cluster_centers_[:, 1],s = 300, c = 'red', label = 'Centroid', marker='*')\n",
        "\n",
        "plt.xlabel('echanges_physiques')\n",
        "plt.ylabel('consommation')\n",
        "plt.legend()\n",
        "plt.title('Conso x Echanges') \n",
        "\n",
        "# le nombre de clusters dans notre étude est optimal (k = 3 groupes)"
      ]
    },
    {
      "cell_type": "raw",
      "metadata": {
        "id": "tSMxPs0GSuVN"
      },
      "source": [
        "## 6e Etape : redéfinition des X et Y"
      ]
    },
    {
      "cell_type": "code",
      "execution_count": null,
      "metadata": {
        "id": "NX8rQPqWSuVN",
        "outputId": "b3aa8774-2387-4828-ff16-c7f98f085b3c"
      },
      "outputs": [
        {
          "data": {
            "text/html": [
              "<div>\n",
              "<style scoped>\n",
              "    .dataframe tbody tr th:only-of-type {\n",
              "        vertical-align: middle;\n",
              "    }\n",
              "\n",
              "    .dataframe tbody tr th {\n",
              "        vertical-align: top;\n",
              "    }\n",
              "\n",
              "    .dataframe thead th {\n",
              "        text-align: right;\n",
              "    }\n",
              "</style>\n",
              "<table border=\"1\" class=\"dataframe\">\n",
              "  <thead>\n",
              "    <tr style=\"text-align: right;\">\n",
              "      <th></th>\n",
              "      <th>echanges_physiques</th>\n",
              "    </tr>\n",
              "  </thead>\n",
              "  <tbody>\n",
              "    <tr>\n",
              "      <th>0</th>\n",
              "      <td>4078.0</td>\n",
              "    </tr>\n",
              "    <tr>\n",
              "      <th>1</th>\n",
              "      <td>692.0</td>\n",
              "    </tr>\n",
              "    <tr>\n",
              "      <th>2</th>\n",
              "      <td>320.0</td>\n",
              "    </tr>\n",
              "    <tr>\n",
              "      <th>3</th>\n",
              "      <td>181.0</td>\n",
              "    </tr>\n",
              "    <tr>\n",
              "      <th>4</th>\n",
              "      <td>83.0</td>\n",
              "    </tr>\n",
              "  </tbody>\n",
              "</table>\n",
              "</div>"
            ],
            "text/plain": [
              "   echanges_physiques\n",
              "0              4078.0\n",
              "1               692.0\n",
              "2               320.0\n",
              "3               181.0\n",
              "4                83.0"
            ]
          },
          "execution_count": 149,
          "metadata": {},
          "output_type": "execute_result"
        }
      ],
      "source": [
        "X = data[['echanges_physiques']] ##### Prédictrices\n",
        "\n",
        "# affichage des 5 premières lignes\n",
        "X.head() "
      ]
    },
    {
      "cell_type": "code",
      "execution_count": null,
      "metadata": {
        "id": "3vsSNNWuSuVN",
        "outputId": "7324f550-6695-4ceb-ef51-0ac063f64394"
      },
      "outputs": [
        {
          "name": "stdout",
          "output_type": "stream",
          "text": [
            "<class 'pandas.core.frame.DataFrame'>\n",
            "(4535, 1)\n"
          ]
        }
      ],
      "source": [
        "# vérifier le type et la forme de X\n",
        "print(type(X))\n",
        "print(X.shape) # 4535 lignes"
      ]
    },
    {
      "cell_type": "code",
      "execution_count": null,
      "metadata": {
        "id": "IKXhLWVtSuVN",
        "outputId": "936646fd-7b11-465e-d039-7fb4d26ffabf"
      },
      "outputs": [
        {
          "data": {
            "text/plain": [
              "0    4122.0\n",
              "1     896.0\n",
              "2     723.0\n",
              "3     183.0\n",
              "4     183.0\n",
              "Name: consommation, dtype: float64"
            ]
          },
          "execution_count": 151,
          "metadata": {},
          "output_type": "execute_result"
        }
      ],
      "source": [
        "# sélectionner une série dans le DataFrame\n",
        "Y = data['consommation'] #### Target --> définition\n",
        "\n",
        "## commande équivalente qui fonctionne s'il n'y a pas d'espace dans le nom de la colonne\n",
        "Y = data.consommation\n",
        "\n",
        "# affichage des 5 premières lignes\n",
        "Y.head()"
      ]
    },
    {
      "cell_type": "code",
      "execution_count": null,
      "metadata": {
        "id": "0VCnq29eSuVN",
        "outputId": "0e1d8cf5-951b-463d-f0a6-0620e08db75f"
      },
      "outputs": [
        {
          "name": "stdout",
          "output_type": "stream",
          "text": [
            "<class 'pandas.core.series.Series'>\n",
            "(4535,)\n"
          ]
        }
      ],
      "source": [
        "# vérifier le type et la forme de Y\n",
        "print(type(Y))\n",
        "print(Y.shape) # 4535 lignes"
      ]
    },
    {
      "cell_type": "raw",
      "metadata": {
        "id": "ZJuYXGMXSuVO"
      },
      "source": [
        "## 7e Etape : division de X et Y en ensembles de formation et de test"
      ]
    },
    {
      "cell_type": "code",
      "execution_count": null,
      "metadata": {
        "id": "6CeySomMSuVO"
      },
      "outputs": [],
      "source": [
        "from sklearn.model_selection import train_test_split ### Séparer les individus en ensemble de train et de test\n",
        "X_train, X_test, Y_train, Y_test = train_test_split(X, Y, random_state = 1) \n",
        "##### 75% pour le train et 25% pour le test \n",
        "####  Argument (Prédictrices, target, tirage aléatoire des données dans X et y (reproductible), taille du jeu de test 20%)"
      ]
    },
    {
      "cell_type": "code",
      "execution_count": null,
      "metadata": {
        "id": "qp9W9ZWcSuVO",
        "outputId": "5dee69c1-7835-4151-ed7c-4fe74ce9099a"
      },
      "outputs": [
        {
          "data": {
            "text/html": [
              "<div>\n",
              "<style scoped>\n",
              "    .dataframe tbody tr th:only-of-type {\n",
              "        vertical-align: middle;\n",
              "    }\n",
              "\n",
              "    .dataframe tbody tr th {\n",
              "        vertical-align: top;\n",
              "    }\n",
              "\n",
              "    .dataframe thead th {\n",
              "        text-align: right;\n",
              "    }\n",
              "</style>\n",
              "<table border=\"1\" class=\"dataframe\">\n",
              "  <thead>\n",
              "    <tr style=\"text-align: right;\">\n",
              "      <th></th>\n",
              "      <th>echanges_physiques</th>\n",
              "    </tr>\n",
              "  </thead>\n",
              "  <tbody>\n",
              "    <tr>\n",
              "      <th>546</th>\n",
              "      <td>651.0</td>\n",
              "    </tr>\n",
              "    <tr>\n",
              "      <th>262</th>\n",
              "      <td>362.0</td>\n",
              "    </tr>\n",
              "    <tr>\n",
              "      <th>1163</th>\n",
              "      <td>180.0</td>\n",
              "    </tr>\n",
              "    <tr>\n",
              "      <th>3079</th>\n",
              "      <td>386.0</td>\n",
              "    </tr>\n",
              "    <tr>\n",
              "      <th>2734</th>\n",
              "      <td>185.0</td>\n",
              "    </tr>\n",
              "  </tbody>\n",
              "</table>\n",
              "</div>"
            ],
            "text/plain": [
              "      echanges_physiques\n",
              "546                651.0\n",
              "262                362.0\n",
              "1163               180.0\n",
              "3079               386.0\n",
              "2734               185.0"
            ]
          },
          "execution_count": 166,
          "metadata": {},
          "output_type": "execute_result"
        }
      ],
      "source": [
        "X_train.head(5)"
      ]
    },
    {
      "cell_type": "code",
      "execution_count": null,
      "metadata": {
        "id": "FJ0jXPHsSuVO",
        "outputId": "977ec107-6aaa-466d-c394-d2b4490707b5"
      },
      "outputs": [
        {
          "data": {
            "text/plain": [
              "(3401, 1)"
            ]
          },
          "execution_count": 167,
          "metadata": {},
          "output_type": "execute_result"
        }
      ],
      "source": [
        "X_train.shape"
      ]
    },
    {
      "cell_type": "code",
      "execution_count": null,
      "metadata": {
        "id": "thCSiY26SuVO",
        "outputId": "f3e67786-a8cf-4fe9-b1ac-7153ecc89032"
      },
      "outputs": [
        {
          "data": {
            "text/html": [
              "<div>\n",
              "<style scoped>\n",
              "    .dataframe tbody tr th:only-of-type {\n",
              "        vertical-align: middle;\n",
              "    }\n",
              "\n",
              "    .dataframe tbody tr th {\n",
              "        vertical-align: top;\n",
              "    }\n",
              "\n",
              "    .dataframe thead th {\n",
              "        text-align: right;\n",
              "    }\n",
              "</style>\n",
              "<table border=\"1\" class=\"dataframe\">\n",
              "  <thead>\n",
              "    <tr style=\"text-align: right;\">\n",
              "      <th></th>\n",
              "      <th>echanges_physiques</th>\n",
              "    </tr>\n",
              "  </thead>\n",
              "  <tbody>\n",
              "    <tr>\n",
              "      <th>546</th>\n",
              "      <td>651.0</td>\n",
              "    </tr>\n",
              "    <tr>\n",
              "      <th>262</th>\n",
              "      <td>362.0</td>\n",
              "    </tr>\n",
              "    <tr>\n",
              "      <th>1163</th>\n",
              "      <td>180.0</td>\n",
              "    </tr>\n",
              "    <tr>\n",
              "      <th>3079</th>\n",
              "      <td>386.0</td>\n",
              "    </tr>\n",
              "    <tr>\n",
              "      <th>2734</th>\n",
              "      <td>185.0</td>\n",
              "    </tr>\n",
              "  </tbody>\n",
              "</table>\n",
              "</div>"
            ],
            "text/plain": [
              "      echanges_physiques\n",
              "546                651.0\n",
              "262                362.0\n",
              "1163               180.0\n",
              "3079               386.0\n",
              "2734               185.0"
            ]
          },
          "execution_count": 168,
          "metadata": {},
          "output_type": "execute_result"
        }
      ],
      "source": [
        "####Séparation des data en 2 --> Train et test\n",
        "\n",
        "X_train.head(5)"
      ]
    },
    {
      "cell_type": "code",
      "execution_count": null,
      "metadata": {
        "id": "r0gww3bASuVO",
        "outputId": "cdbab0c3-720a-4a37-92f3-84ba4b847244"
      },
      "outputs": [
        {
          "data": {
            "text/html": [
              "<div>\n",
              "<style scoped>\n",
              "    .dataframe tbody tr th:only-of-type {\n",
              "        vertical-align: middle;\n",
              "    }\n",
              "\n",
              "    .dataframe tbody tr th {\n",
              "        vertical-align: top;\n",
              "    }\n",
              "\n",
              "    .dataframe thead th {\n",
              "        text-align: right;\n",
              "    }\n",
              "</style>\n",
              "<table border=\"1\" class=\"dataframe\">\n",
              "  <thead>\n",
              "    <tr style=\"text-align: right;\">\n",
              "      <th></th>\n",
              "      <th>echanges_physiques</th>\n",
              "    </tr>\n",
              "  </thead>\n",
              "  <tbody>\n",
              "    <tr>\n",
              "      <th>2895</th>\n",
              "      <td>236.0</td>\n",
              "    </tr>\n",
              "    <tr>\n",
              "      <th>2763</th>\n",
              "      <td>277.0</td>\n",
              "    </tr>\n",
              "    <tr>\n",
              "      <th>905</th>\n",
              "      <td>699.0</td>\n",
              "    </tr>\n",
              "    <tr>\n",
              "      <th>3980</th>\n",
              "      <td>426.0</td>\n",
              "    </tr>\n",
              "    <tr>\n",
              "      <th>235</th>\n",
              "      <td>269.0</td>\n",
              "    </tr>\n",
              "  </tbody>\n",
              "</table>\n",
              "</div>"
            ],
            "text/plain": [
              "      echanges_physiques\n",
              "2895               236.0\n",
              "2763               277.0\n",
              "905                699.0\n",
              "3980               426.0\n",
              "235                269.0"
            ]
          },
          "execution_count": 169,
          "metadata": {},
          "output_type": "execute_result"
        }
      ],
      "source": [
        "X_train.tail(5)"
      ]
    },
    {
      "cell_type": "code",
      "execution_count": null,
      "metadata": {
        "id": "bvbZ08zMSuVP",
        "outputId": "ff14ec7a-1f06-4399-9b1b-ead5bb3cfd75"
      },
      "outputs": [
        {
          "data": {
            "text/plain": [
              "(3401, 1)"
            ]
          },
          "execution_count": 170,
          "metadata": {},
          "output_type": "execute_result"
        }
      ],
      "source": [
        "X_train.shape ####75% de 200 ie 150 observations"
      ]
    },
    {
      "cell_type": "code",
      "execution_count": null,
      "metadata": {
        "id": "PUg_9k85SuVP",
        "outputId": "d8cdacc3-d3a2-4c26-ef37-af0e5964c215"
      },
      "outputs": [
        {
          "data": {
            "text/plain": [
              "(1134, 1)"
            ]
          },
          "execution_count": 171,
          "metadata": {},
          "output_type": "execute_result"
        }
      ],
      "source": [
        "X_test.shape"
      ]
    },
    {
      "cell_type": "code",
      "execution_count": null,
      "metadata": {
        "id": "zv8Qtm6KSuVP",
        "outputId": "34d6e685-3427-4055-d8e7-a0cc37a88dc5"
      },
      "outputs": [
        {
          "data": {
            "text/plain": [
              "(1134,)"
            ]
          },
          "execution_count": 172,
          "metadata": {},
          "output_type": "execute_result"
        }
      ],
      "source": [
        "Y_test.shape"
      ]
    },
    {
      "cell_type": "code",
      "execution_count": null,
      "metadata": {
        "id": "aWkD24wFSuVP",
        "outputId": "970dccfd-f857-4c50-843b-e4663106489c"
      },
      "outputs": [
        {
          "name": "stdout",
          "output_type": "stream",
          "text": [
            "(3401, 1)\n",
            "(3401,)\n",
            "(1134, 1)\n",
            "(1134,)\n"
          ]
        }
      ],
      "source": [
        "# default split is 75% for training and 25% for testing\n",
        "print(X_train.shape)\n",
        "print(Y_train.shape)\n",
        "print(X_test.shape)\n",
        "print(Y_test.shape)"
      ]
    },
    {
      "cell_type": "code",
      "execution_count": null,
      "metadata": {
        "id": "3LGvn3LYSuVP",
        "outputId": "48c7b31e-aa42-4d6c-979e-ba77826dd825"
      },
      "outputs": [
        {
          "data": {
            "text/html": [
              "<div>\n",
              "<style scoped>\n",
              "    .dataframe tbody tr th:only-of-type {\n",
              "        vertical-align: middle;\n",
              "    }\n",
              "\n",
              "    .dataframe tbody tr th {\n",
              "        vertical-align: top;\n",
              "    }\n",
              "\n",
              "    .dataframe thead th {\n",
              "        text-align: right;\n",
              "    }\n",
              "</style>\n",
              "<table border=\"1\" class=\"dataframe\">\n",
              "  <thead>\n",
              "    <tr style=\"text-align: right;\">\n",
              "      <th></th>\n",
              "      <th>echanges_physiques</th>\n",
              "    </tr>\n",
              "  </thead>\n",
              "  <tbody>\n",
              "    <tr>\n",
              "      <th>546</th>\n",
              "      <td>651.0</td>\n",
              "    </tr>\n",
              "    <tr>\n",
              "      <th>262</th>\n",
              "      <td>362.0</td>\n",
              "    </tr>\n",
              "    <tr>\n",
              "      <th>1163</th>\n",
              "      <td>180.0</td>\n",
              "    </tr>\n",
              "    <tr>\n",
              "      <th>3079</th>\n",
              "      <td>386.0</td>\n",
              "    </tr>\n",
              "    <tr>\n",
              "      <th>2734</th>\n",
              "      <td>185.0</td>\n",
              "    </tr>\n",
              "  </tbody>\n",
              "</table>\n",
              "</div>"
            ],
            "text/plain": [
              "      echanges_physiques\n",
              "546                651.0\n",
              "262                362.0\n",
              "1163               180.0\n",
              "3079               386.0\n",
              "2734               185.0"
            ]
          },
          "execution_count": 174,
          "metadata": {},
          "output_type": "execute_result"
        }
      ],
      "source": [
        "X_train.head()"
      ]
    },
    {
      "cell_type": "code",
      "execution_count": null,
      "metadata": {
        "id": "6BqoQpOkSuVQ"
      },
      "outputs": [],
      "source": [
        ""
      ]
    }
  ],
  "metadata": {
    "interpreter": {
      "hash": "7b88070600b6f3f3276f1129e33399b462ae5677270788044a34e640adf72722"
    },
    "kernelspec": {
      "display_name": "Python 3 (ipykernel)",
      "language": "python",
      "name": "python3"
    },
    "language_info": {
      "codemirror_mode": {
        "name": "ipython",
        "version": 3
      },
      "file_extension": ".py",
      "mimetype": "text/x-python",
      "name": "python",
      "nbconvert_exporter": "python",
      "pygments_lexer": "ipython3",
      "version": "3.9.7"
    },
    "colab": {
      "name": "consommation_energy.ipynb",
      "provenance": [],
      "include_colab_link": true
    }
  },
  "nbformat": 4,
  "nbformat_minor": 0
}